{
 "cells": [
  {
   "cell_type": "markdown",
   "id": "04597884",
   "metadata": {},
   "source": [
    "![spam](img/JB2.png)"
   ]
  },
  {
   "cell_type": "code",
   "execution_count": 18,
   "id": "48c1b2db",
   "metadata": {},
   "outputs": [
    {
     "data": {
      "text/html": [
       "<script src=\"require.js\"></script>\n"
      ],
      "text/plain": [
       "<IPython.core.display.HTML object>"
      ]
     },
     "metadata": {},
     "output_type": "display_data"
    }
   ],
   "source": [
    "%%HTML\n",
    "<script src=\"require.js\"></script>"
   ]
  },
  {
   "cell_type": "markdown",
   "id": "e4ddfc88",
   "metadata": {},
   "source": [
    "##Datos grupo 1  > Modelo 0 >>. Current (Rafa)"
   ]
  },
  {
   "cell_type": "markdown",
   "id": "d7287675",
   "metadata": {
    "heading_collapsed": true
   },
   "source": [
    "## 1.   Importing libraries and loading data"
   ]
  },
  {
   "cell_type": "code",
   "execution_count": 19,
   "id": "5a7c2c32",
   "metadata": {
    "hidden": true
   },
   "outputs": [],
   "source": [
    "# Basic libraries\n",
    "import numpy as np\n",
    "import pandas as pd\n",
    "import matplotlib.pyplot as plt\n",
    "# Normalization  libraries\n",
    "from sklearn.preprocessing import MinMaxScaler\n",
    "from sklearn.metrics import mean_absolute_percentage_error, r2_score\n",
    "\n",
    "# Tensorflow with keras\n",
    "import tensorflow as tf\n",
    "from tensorflow import keras\n",
    "from tensorflow.keras import layers\n",
    "\n",
    "# Easy graphs with plotly\n",
    "import plotly.express as px\n",
    "import plotly.graph_objects as go\n",
    "import plotly.io as pio\n",
    "pio.renderers.default='notebook'\n",
    "\n",
    "\n",
    "# Matplotlib plots look like\n",
    "plt.style.use('ggplot')\n",
    "plt.rcParams['figure.figsize'] = (15,7)\n",
    "import pickle as pk\n",
    "\n",
    "#import scipy\n",
    "from scipy import stats\n",
    "\n",
    "import warnings\n",
    "warnings.filterwarnings('ignore')"
   ]
  },
  {
   "cell_type": "code",
   "execution_count": 20,
   "id": "fbb27cbb",
   "metadata": {
    "hidden": true
   },
   "outputs": [],
   "source": [
    "# Importing tensors\n",
    "X_train = np.load('./outputs/split/X_train.npy')\n",
    "X_val = np.load('./outputs/split/X_val.npy')\n",
    "X_test = np.load('./outputs/split/X_test.npy')\n",
    "y_train = np.load('./outputs/split/y_train.npy') #shape is 130513,24,1\n",
    "y_val = np.load('./outputs/split/y_val.npy') #shape is 2665,24,1\n",
    "y_test = np.load('./outputs/split/y_test.npy') #357,24,1"
   ]
  },
  {
   "cell_type": "code",
   "execution_count": 21,
   "id": "32e8ad08-5a46-4a25-82ac-aeefa6471307",
   "metadata": {
    "tags": []
   },
   "outputs": [
    {
     "name": "stdout",
     "output_type": "stream",
     "text": [
      "(238, 36, 1)\n"
     ]
    }
   ],
   "source": [
    "print(y_test.shape)"
   ]
  },
  {
   "cell_type": "code",
   "execution_count": 22,
   "id": "88289d97-02fd-4d9a-8c53-017e22978d67",
   "metadata": {
    "tags": []
   },
   "outputs": [
    {
     "name": "stdout",
     "output_type": "stream",
     "text": [
      "/bin/bash: mlflow: command not found\n"
     ]
    }
   ],
   "source": [
    "!mlflow\n"
   ]
  },
  {
   "cell_type": "markdown",
   "id": "ec61312c",
   "metadata": {
    "heading_collapsed": true
   },
   "source": [
    "## 2.   Setting the model"
   ]
  },
  {
   "cell_type": "markdown",
   "id": "7fd32ac6",
   "metadata": {
    "hidden": true
   },
   "source": [
    "<summary>\n",
    "    <font size=\"4\" color=\"orange\"><b>1.1 Setting the parameters according to the tensors created in JNB1</b></font>\n",
    "</summary>"
   ]
  },
  {
   "cell_type": "code",
   "execution_count": 23,
   "id": "c3595394",
   "metadata": {
    "hidden": true
   },
   "outputs": [],
   "source": [
    "n_pasado = (24 * 7)+12\n",
    "n_futuro = 36 # cambio a 36 (original24)\n",
    "n_salto = 0  # cambio a 0 (originala +12)\n",
    "\n",
    "nom_attr = ['Energy_Demand', \n",
    "            \n",
    "            'Month', \n",
    "            'Day', \n",
    "            'Hour',\n",
    "            'PC1_Weather',\n",
    "            'PC2_Weather',\n",
    "            'Monday_Holiday',\n",
    "            'Tuesday_Aft_Hol', \n",
    "            'Easter_week', \n",
    "            'May_1s', \n",
    "            'May_10t', \n",
    "            'Sept_16',\n",
    "            'Nov_2nd', \n",
    "            'Before_Christmas_NY', \n",
    "            'Christmas_NY',\n",
    "            'After_Christmas_NY' ]\n",
    "n_attr = len(nom_attr)\n"
   ]
  },
  {
   "cell_type": "markdown",
   "id": "ca40d153",
   "metadata": {
    "hidden": true
   },
   "source": [
    "<summary>\n",
    "    <font size=\"4\" color=\"orange\"><b>1.2 Configuring the LSTM Encoder-Decoder model</b></font>\n",
    "</summary>"
   ]
  },
  {
   "cell_type": "markdown",
   "id": "a60412b1",
   "metadata": {
    "hidden": true
   },
   "source": [
    "LSTM UNIT\n",
    "\n",
    "Such that:\n",
    "\n",
    "* Forget Gate $F$: a NN with sigmoid \n",
    "* Candidate layer $C$: a NN with Tanh\n",
    "* Input Gate $I$: a NN with sigmoid\n",
    "* Output Gate $O$: a NN with sigmoid\n",
    "* Hidden state $h$: a vector, in our case we set $h\\in\\mathbb{R}^{100}$\n",
    "* Memory state $c$: a vector, in our case we set $c\\in\\mathbb{R}^{100}$\n"
   ]
  },
  {
   "cell_type": "code",
   "execution_count": 24,
   "id": "c024acb8",
   "metadata": {
    "hidden": true
   },
   "outputs": [],
   "source": [
    "# Configuration of the encoder\n",
    "encoder_inputs = layers.Input(shape=(n_pasado, n_attr))\n",
    "\n",
    "encoder_l1 = layers.LSTM(25, return_state=True)# 100: dimension of hidden states\n",
    "encoder_outputs1 = encoder_l1(encoder_inputs)\n",
    "\n",
    "encoder_states1 = encoder_outputs1[1:]"
   ]
  },
  {
   "cell_type": "code",
   "execution_count": 25,
   "id": "ab03ae43",
   "metadata": {
    "hidden": true
   },
   "outputs": [],
   "source": [
    "# Configuration of the encoder\n",
    "decoder_rvec = layers.RepeatVector(n_futuro) # repeat vector 24 times\n",
    "decoder_inputs = decoder_rvec(encoder_outputs1[0])\n",
    "\n",
    "decoder_l1 = layers.LSTM(25, return_sequences=True)\n",
    "decoder_l1_output = decoder_l1(decoder_inputs, initial_state=encoder_states1)\n",
    "\n",
    "decoder_l2 = layers.TimeDistributed(layers.Dense(1)) # just one dense layer\n",
    "decoder_outputs = decoder_l2(decoder_l1_output)"
   ]
  },
  {
   "cell_type": "code",
   "execution_count": 26,
   "id": "ade2466d",
   "metadata": {
    "hidden": true
   },
   "outputs": [
    {
     "name": "stdout",
     "output_type": "stream",
     "text": [
      "Model: \"model\"\n",
      "__________________________________________________________________________________________________\n",
      " Layer (type)                   Output Shape         Param #     Connected to                     \n",
      "==================================================================================================\n",
      " input_2 (InputLayer)           [(None, 180, 16)]    0           []                               \n",
      "                                                                                                  \n",
      " lstm_1 (LSTM)                  [(None, 25),         4200        ['input_2[0][0]']                \n",
      "                                 (None, 25),                                                      \n",
      "                                 (None, 25)]                                                      \n",
      "                                                                                                  \n",
      " repeat_vector (RepeatVector)   (None, 36, 25)       0           ['lstm_1[0][0]']                 \n",
      "                                                                                                  \n",
      " lstm_2 (LSTM)                  (None, 36, 25)       5100        ['repeat_vector[0][0]',          \n",
      "                                                                  'lstm_1[0][1]',                 \n",
      "                                                                  'lstm_1[0][2]']                 \n",
      "                                                                                                  \n",
      " time_distributed (TimeDistribu  (None, 36, 1)       26          ['lstm_2[0][0]']                 \n",
      " ted)                                                                                             \n",
      "                                                                                                  \n",
      "==================================================================================================\n",
      "Total params: 9,326\n",
      "Trainable params: 9,326\n",
      "Non-trainable params: 0\n",
      "__________________________________________________________________________________________________\n"
     ]
    }
   ],
   "source": [
    "modelo = keras.models.Model(encoder_inputs, decoder_outputs)\n",
    "modelo.summary()"
   ]
  },
  {
   "cell_type": "markdown",
   "id": "8bde72ef",
   "metadata": {
    "heading_collapsed": true
   },
   "source": [
    "## 3.   Training the model"
   ]
  },
  {
   "cell_type": "markdown",
   "id": "08a7f5c0",
   "metadata": {
    "heading_collapsed": true,
    "hidden": true
   },
   "source": [
    "Let $F_\\theta: {\\rm Mat}_{180\\times 18}(\\mathbb{R})\\rightarrow \\mathbb{R}^{24}$ be the nonlinear mapping given by the LSTM model where $\\theta \\in\\mathbb{R}^{128,101}$ is the vector of parameters to fit\n",
    "\n",
    "The *training*, *validation* and *test* sets are codificated by the tensors $X_{180\\times 18\\times m}$ and $Y_{24\\times 1\\times m}$ for $m = m_{\\rm train}, m_{\\rm val}, m_{\\rm test}$, as above. This tensors are, in each case,  just $m$ samples of the ordered pairs in ${\\rm Mat}_{180\\times 18}(\\mathbb{R})\\times \\mathbb{R}^{24}$: $$\\{(X^1,Y^1),(X^2,Y^2)\n",
    "\\dots(X^m,Y^m)\\}.$$\n",
    "\n",
    "\n",
    "\n",
    "<summary>\n",
    "    <font size=\"3\" color=\"palevioletred\"><b>Loss function</b></font>\n",
    "</summary>\n",
    "\n",
    "For fixed $\\theta$ and tensor pair $X$ and $Y$, we set the **loss function** in terms of the MAE metric with the $\\ell_1$ norm: \n",
    "\n",
    "$${\\rm Loss}(X) = \\frac{1}{m}\\sum_{k=1}^m{\\|F_\\theta(X^k)-Y^k\\|_1}$$\n",
    "\n",
    "\n",
    "\n",
    "<summary>\n",
    "    <font size=\"3\" color=\"palevioletred\"><b>Hyperparameters</b></font>\n",
    "</summary>\n",
    "\n",
    "* **epochs** (upper bound) = 25: An epoch is when an entire training set is passed  through the NN only once.\n",
    "\n",
    "* **batch size** = 32: Total number of training examples present in a single batch.\n",
    "\n",
    "* **patience** = 5:  Number of epochs with no improvement after which training will be stopped, in our case with respect to ${\\rm Loss}(X_{\\rm val})$.\n",
    "\n",
    "* **learning rate** $\\alpha_{\\rm epoch} = 1\\times 10^{-3} \\times 0.9 ^{\\rm epoch}$\n",
    "\n",
    "<summary>\n",
    "    <font size=\"3\" color=\"palevioletred\"><b>Training process</b></font>\n",
    "</summary>"
   ]
  },
  {
   "cell_type": "markdown",
   "id": "53d31429-9e27-42c5-bc42-fdd759ddf0b0",
   "metadata": {},
   "source": []
  },
  {
   "cell_type": "code",
   "execution_count": 27,
   "id": "892bd0fe",
   "metadata": {
    "hidden": true
   },
   "outputs": [
    {
     "name": "stdout",
     "output_type": "stream",
     "text": [
      "Epoch 1/25\n",
      "4079/4079 [==============================] - 347s 83ms/step - loss: 0.0478 - accuracy: 1.4473e-04 - val_loss: 0.0281 - val_accuracy: 0.0000e+00 - lr: 0.0010\n",
      "Epoch 2/25\n",
      "4079/4079 [==============================] - 343s 84ms/step - loss: 0.0320 - accuracy: 1.4558e-04 - val_loss: 0.0239 - val_accuracy: 0.0000e+00 - lr: 9.0000e-04\n",
      "Epoch 3/25\n",
      "4079/4079 [==============================] - 346s 85ms/step - loss: 0.0291 - accuracy: 1.4558e-04 - val_loss: 0.0213 - val_accuracy: 0.0000e+00 - lr: 8.1000e-04\n",
      "Epoch 4/25\n",
      "4079/4079 [==============================] - 351s 86ms/step - loss: 0.0274 - accuracy: 1.4558e-04 - val_loss: 0.0206 - val_accuracy: 0.0000e+00 - lr: 7.2900e-04\n",
      "Epoch 5/25\n",
      "4079/4079 [==============================] - 350s 86ms/step - loss: 0.0261 - accuracy: 1.4558e-04 - val_loss: 0.0202 - val_accuracy: 0.0000e+00 - lr: 6.5610e-04\n",
      "Epoch 6/25\n",
      "4079/4079 [==============================] - 348s 85ms/step - loss: 0.0252 - accuracy: 1.4558e-04 - val_loss: 0.0208 - val_accuracy: 0.0000e+00 - lr: 5.9049e-04\n",
      "Epoch 7/25\n",
      "4079/4079 [==============================] - 349s 86ms/step - loss: 0.0245 - accuracy: 1.4558e-04 - val_loss: 0.0253 - val_accuracy: 0.0000e+00 - lr: 5.3144e-04\n",
      "Epoch 8/25\n",
      "4079/4079 [==============================] - 354s 87ms/step - loss: 0.0240 - accuracy: 1.4558e-04 - val_loss: 0.0194 - val_accuracy: 0.0000e+00 - lr: 4.7830e-04\n",
      "Epoch 9/25\n",
      "4079/4079 [==============================] - 349s 86ms/step - loss: 0.0236 - accuracy: 1.4558e-04 - val_loss: 0.0227 - val_accuracy: 0.0000e+00 - lr: 4.3047e-04\n",
      "Epoch 10/25\n",
      "4079/4079 [==============================] - 351s 86ms/step - loss: 0.0233 - accuracy: 1.4558e-04 - val_loss: 0.0193 - val_accuracy: 0.0000e+00 - lr: 3.8742e-04\n",
      "Epoch 11/25\n",
      "4079/4079 [==============================] - 352s 86ms/step - loss: 0.0230 - accuracy: 1.4558e-04 - val_loss: 0.0209 - val_accuracy: 0.0000e+00 - lr: 3.4868e-04\n",
      "Epoch 12/25\n",
      " 877/4079 [=====>........................] - ETA: 4:38 - loss: 0.0228 - accuracy: 1.4748e-04"
     ]
    },
    {
     "name": "stderr",
     "output_type": "stream",
     "text": [
      "IOPub message rate exceeded.\n",
      "The Jupyter server will temporarily stop sending output\n",
      "to the client in order to avoid crashing it.\n",
      "To change this limit, set the config variable\n",
      "`--ServerApp.iopub_msg_rate_limit`.\n",
      "\n",
      "Current values:\n",
      "ServerApp.iopub_msg_rate_limit=1000.0 (msgs/sec)\n",
      "ServerApp.rate_limit_window=3.0 (secs)\n",
      "\n"
     ]
    },
    {
     "name": "stdout",
     "output_type": "stream",
     "text": [
      "4079/4079 [==============================] - 357s 87ms/step - loss: 0.0226 - accuracy: 1.4558e-04 - val_loss: 0.0196 - val_accuracy: 0.0000e+00 - lr: 2.8243e-04\n",
      "Epoch 14/25\n",
      "4079/4079 [==============================] - 358s 88ms/step - loss: 0.0224 - accuracy: 1.4558e-04 - val_loss: 0.0196 - val_accuracy: 0.0000e+00 - lr: 2.5419e-04\n",
      "Epoch 15/25\n",
      "4079/4079 [==============================] - 353s 87ms/step - loss: 0.0222 - accuracy: 1.4558e-04 - val_loss: 0.0195 - val_accuracy: 0.0000e+00 - lr: 2.2877e-04\n"
     ]
    }
   ],
   "source": [
    "## Sets the function for the rate learning in such a way that earning rate is smaller en each epoch\n",
    "reduce_lr = keras.callbacks.LearningRateScheduler(lambda x: 1e-3 * 0.90 ** x) \n",
    "\n",
    "## During the run, the models of \"best\" result are stored according to \"val_loss\"\n",
    "\n",
    "path_checkpoint = \"./outputs/h5/model_checkpoint.h5\"\n",
    "modelckpt_callback = keras.callbacks.ModelCheckpoint(\n",
    "    monitor=\"val_loss\",\n",
    "    filepath=path_checkpoint,\n",
    "    verbose=1,\n",
    "    save_weights_only=True,\n",
    "    save_best_only=True,\n",
    ")\n",
    "\n",
    "## Setting the number of epochs with no improvement after which training will be stopped, \n",
    "## with respect to \"val_loss\". This is to avoid overfitting.\n",
    "es_callback = keras.callbacks.EarlyStopping(\n",
    "    monitor=\"val_loss\", \n",
    "    min_delta=0, \n",
    "    patience=5 ### probar con menos\n",
    "    \n",
    ")\n",
    "\n",
    "modelo.compile(\n",
    "    optimizer=keras.optimizers.Adam(),  ### un tipo de descenso de gradiente más eficiente 'momento-inercia'\n",
    "    loss=\"mae\", ### determinación de la función de costo\n",
    "    metrics=['accuracy']\n",
    ")\n",
    "\n",
    "history = modelo.fit(\n",
    "    X_train,\n",
    "    y_train,\n",
    "    epochs=25,\n",
    "    validation_data=(X_val,y_val),\n",
    "    batch_size=32,\n",
    "    callbacks=[reduce_lr, es_callback]\n",
    ") ### guardar este history para graficar"
   ]
  },
  {
   "cell_type": "markdown",
   "id": "43075d2f",
   "metadata": {
    "heading_collapsed": true
   },
   "source": [
    "## 4.   Model validation"
   ]
  },
  {
   "cell_type": "code",
   "execution_count": 28,
   "id": "245c68f2",
   "metadata": {},
   "outputs": [
    {
     "name": "stdout",
     "output_type": "stream",
     "text": [
      "dict_keys(['loss', 'accuracy', 'val_loss', 'val_accuracy', 'lr'])\n"
     ]
    }
   ],
   "source": [
    "print(history.history.keys())"
   ]
  },
  {
   "cell_type": "code",
   "execution_count": 29,
   "id": "326c89a6",
   "metadata": {},
   "outputs": [
    {
     "data": {
      "image/png": "[encoded data removed]",
      "text/plain": [
       "<Figure size 1500x700 with 1 Axes>"
      ]
     },
     "metadata": {},
     "output_type": "display_data"
    }
   ],
   "source": [
    "# Model Loss Chart\n",
    "plt.plot(history.history['loss'])\n",
    "plt.plot(history.history['val_loss'])\n",
    "plt.title('model loss')\n",
    "plt.ylabel('loss')\n",
    "plt.xlabel('epoch')\n",
    "plt.legend(['train', 'val'], loc='upper left')\n",
    "plt.show()"
   ]
  },
  {
   "cell_type": "code",
   "execution_count": 30,
   "id": "19e18437",
   "metadata": {
    "hidden": true
   },
   "outputs": [],
   "source": [
    "## 5.   Model test results"
   ]
  },
  {
   "cell_type": "code",
   "execution_count": 31,
   "id": "ad21e6fc",
   "metadata": {
    "hidden": true
   },
   "outputs": [],
   "source": [
    "df_test = pd.read_csv('./outputs/PCA/pca_exogenas_test.csv')\n",
    "del df_test[\"Unnamed: 0\"]"
   ]
  },
  {
   "cell_type": "code",
   "execution_count": 32,
   "id": "11a1680e",
   "metadata": {
    "hidden": true
   },
   "outputs": [
    {
     "name": "stdout",
     "output_type": "stream",
     "text": [
      "8/8 [==============================] - 3s 19ms/step\n"
     ]
    },
    {
     "data": {
      "text/plain": [
       "((8568,), (8568,), (8580,))"
      ]
     },
     "execution_count": 32,
     "metadata": {},
     "output_type": "execute_result"
    }
   ],
   "source": [
    "y_est = modelo.predict(X_test)\n",
    "y_test[:,:,0].ravel().shape, y_est[:,:,0].ravel().shape, df_test['Date_timed'][n_pasado + n_salto:].shape"
   ]
  },
  {
   "cell_type": "code",
   "execution_count": 33,
   "id": "c218af37",
   "metadata": {},
   "outputs": [
    {
     "data": {
      "text/html": [
       "<div>\n",
       "<style scoped>\n",
       "    .dataframe tbody tr th:only-of-type {\n",
       "        vertical-align: middle;\n",
       "    }\n",
       "\n",
       "    .dataframe tbody tr th {\n",
       "        vertical-align: top;\n",
       "    }\n",
       "\n",
       "    .dataframe thead th {\n",
       "        text-align: right;\n",
       "    }\n",
       "</style>\n",
       "<table border=\"1\" class=\"dataframe\">\n",
       "  <thead>\n",
       "    <tr style=\"text-align: right;\">\n",
       "      <th></th>\n",
       "      <th>PC1_Weather</th>\n",
       "      <th>PC2_Weather</th>\n",
       "      <th>Date_timed</th>\n",
       "      <th>Energy_Demand</th>\n",
       "      <th>Day</th>\n",
       "      <th>Hour</th>\n",
       "      <th>Month</th>\n",
       "      <th>Tmax-Cab</th>\n",
       "      <th>Tmax-Hmo</th>\n",
       "      <th>Tmax-Obr</th>\n",
       "      <th>...</th>\n",
       "      <th>Monday_Holiday</th>\n",
       "      <th>Tuesday_Aft_Hol</th>\n",
       "      <th>Easter_week</th>\n",
       "      <th>May_1s</th>\n",
       "      <th>May_10t</th>\n",
       "      <th>Sept_16</th>\n",
       "      <th>Nov_2nd</th>\n",
       "      <th>Before_Christmas_NY</th>\n",
       "      <th>Christmas_NY</th>\n",
       "      <th>After_Christmas_NY</th>\n",
       "    </tr>\n",
       "  </thead>\n",
       "  <tbody>\n",
       "    <tr>\n",
       "      <th>0</th>\n",
       "      <td>1.700324</td>\n",
       "      <td>-0.069763</td>\n",
       "      <td>2021-11-30 00:00:00</td>\n",
       "      <td>2491.00</td>\n",
       "      <td>1</td>\n",
       "      <td>0</td>\n",
       "      <td>11</td>\n",
       "      <td>29.5</td>\n",
       "      <td>31.5</td>\n",
       "      <td>29.0</td>\n",
       "      <td>...</td>\n",
       "      <td>0</td>\n",
       "      <td>0</td>\n",
       "      <td>0</td>\n",
       "      <td>0</td>\n",
       "      <td>0</td>\n",
       "      <td>0</td>\n",
       "      <td>0</td>\n",
       "      <td>0</td>\n",
       "      <td>0</td>\n",
       "      <td>0</td>\n",
       "    </tr>\n",
       "    <tr>\n",
       "      <th>1</th>\n",
       "      <td>1.700324</td>\n",
       "      <td>-0.069763</td>\n",
       "      <td>2021-11-30 01:00:00</td>\n",
       "      <td>2394.00</td>\n",
       "      <td>1</td>\n",
       "      <td>1</td>\n",
       "      <td>11</td>\n",
       "      <td>29.5</td>\n",
       "      <td>31.5</td>\n",
       "      <td>29.0</td>\n",
       "      <td>...</td>\n",
       "      <td>0</td>\n",
       "      <td>0</td>\n",
       "      <td>0</td>\n",
       "      <td>0</td>\n",
       "      <td>0</td>\n",
       "      <td>0</td>\n",
       "      <td>0</td>\n",
       "      <td>0</td>\n",
       "      <td>0</td>\n",
       "      <td>0</td>\n",
       "    </tr>\n",
       "    <tr>\n",
       "      <th>2</th>\n",
       "      <td>1.700324</td>\n",
       "      <td>-0.069763</td>\n",
       "      <td>2021-11-30 02:00:00</td>\n",
       "      <td>2313.00</td>\n",
       "      <td>1</td>\n",
       "      <td>2</td>\n",
       "      <td>11</td>\n",
       "      <td>29.5</td>\n",
       "      <td>31.5</td>\n",
       "      <td>29.0</td>\n",
       "      <td>...</td>\n",
       "      <td>0</td>\n",
       "      <td>0</td>\n",
       "      <td>0</td>\n",
       "      <td>0</td>\n",
       "      <td>0</td>\n",
       "      <td>0</td>\n",
       "      <td>0</td>\n",
       "      <td>0</td>\n",
       "      <td>0</td>\n",
       "      <td>0</td>\n",
       "    </tr>\n",
       "    <tr>\n",
       "      <th>3</th>\n",
       "      <td>1.700324</td>\n",
       "      <td>-0.069763</td>\n",
       "      <td>2021-11-30 03:00:00</td>\n",
       "      <td>2254.00</td>\n",
       "      <td>1</td>\n",
       "      <td>3</td>\n",
       "      <td>11</td>\n",
       "      <td>29.5</td>\n",
       "      <td>31.5</td>\n",
       "      <td>29.0</td>\n",
       "      <td>...</td>\n",
       "      <td>0</td>\n",
       "      <td>0</td>\n",
       "      <td>0</td>\n",
       "      <td>0</td>\n",
       "      <td>0</td>\n",
       "      <td>0</td>\n",
       "      <td>0</td>\n",
       "      <td>0</td>\n",
       "      <td>0</td>\n",
       "      <td>0</td>\n",
       "    </tr>\n",
       "    <tr>\n",
       "      <th>4</th>\n",
       "      <td>1.700324</td>\n",
       "      <td>-0.069763</td>\n",
       "      <td>2021-11-30 04:00:00</td>\n",
       "      <td>2203.00</td>\n",
       "      <td>1</td>\n",
       "      <td>4</td>\n",
       "      <td>11</td>\n",
       "      <td>29.5</td>\n",
       "      <td>31.5</td>\n",
       "      <td>29.0</td>\n",
       "      <td>...</td>\n",
       "      <td>0</td>\n",
       "      <td>0</td>\n",
       "      <td>0</td>\n",
       "      <td>0</td>\n",
       "      <td>0</td>\n",
       "      <td>0</td>\n",
       "      <td>0</td>\n",
       "      <td>0</td>\n",
       "      <td>0</td>\n",
       "      <td>0</td>\n",
       "    </tr>\n",
       "    <tr>\n",
       "      <th>...</th>\n",
       "      <td>...</td>\n",
       "      <td>...</td>\n",
       "      <td>...</td>\n",
       "      <td>...</td>\n",
       "      <td>...</td>\n",
       "      <td>...</td>\n",
       "      <td>...</td>\n",
       "      <td>...</td>\n",
       "      <td>...</td>\n",
       "      <td>...</td>\n",
       "      <td>...</td>\n",
       "      <td>...</td>\n",
       "      <td>...</td>\n",
       "      <td>...</td>\n",
       "      <td>...</td>\n",
       "      <td>...</td>\n",
       "      <td>...</td>\n",
       "      <td>...</td>\n",
       "      <td>...</td>\n",
       "      <td>...</td>\n",
       "      <td>...</td>\n",
       "    </tr>\n",
       "    <tr>\n",
       "      <th>8755</th>\n",
       "      <td>3.416347</td>\n",
       "      <td>-0.228364</td>\n",
       "      <td>2022-11-29 19:00:00</td>\n",
       "      <td>2557.63</td>\n",
       "      <td>1</td>\n",
       "      <td>19</td>\n",
       "      <td>11</td>\n",
       "      <td>24.0</td>\n",
       "      <td>26.5</td>\n",
       "      <td>28.0</td>\n",
       "      <td>...</td>\n",
       "      <td>0</td>\n",
       "      <td>0</td>\n",
       "      <td>0</td>\n",
       "      <td>0</td>\n",
       "      <td>0</td>\n",
       "      <td>0</td>\n",
       "      <td>0</td>\n",
       "      <td>0</td>\n",
       "      <td>0</td>\n",
       "      <td>0</td>\n",
       "    </tr>\n",
       "    <tr>\n",
       "      <th>8756</th>\n",
       "      <td>3.416347</td>\n",
       "      <td>-0.228364</td>\n",
       "      <td>2022-11-29 20:00:00</td>\n",
       "      <td>2520.09</td>\n",
       "      <td>1</td>\n",
       "      <td>20</td>\n",
       "      <td>11</td>\n",
       "      <td>24.0</td>\n",
       "      <td>26.5</td>\n",
       "      <td>28.0</td>\n",
       "      <td>...</td>\n",
       "      <td>0</td>\n",
       "      <td>0</td>\n",
       "      <td>0</td>\n",
       "      <td>0</td>\n",
       "      <td>0</td>\n",
       "      <td>0</td>\n",
       "      <td>0</td>\n",
       "      <td>0</td>\n",
       "      <td>0</td>\n",
       "      <td>0</td>\n",
       "    </tr>\n",
       "    <tr>\n",
       "      <th>8757</th>\n",
       "      <td>3.416347</td>\n",
       "      <td>-0.228364</td>\n",
       "      <td>2022-11-29 21:00:00</td>\n",
       "      <td>2483.82</td>\n",
       "      <td>1</td>\n",
       "      <td>21</td>\n",
       "      <td>11</td>\n",
       "      <td>24.0</td>\n",
       "      <td>26.5</td>\n",
       "      <td>28.0</td>\n",
       "      <td>...</td>\n",
       "      <td>0</td>\n",
       "      <td>0</td>\n",
       "      <td>0</td>\n",
       "      <td>0</td>\n",
       "      <td>0</td>\n",
       "      <td>0</td>\n",
       "      <td>0</td>\n",
       "      <td>0</td>\n",
       "      <td>0</td>\n",
       "      <td>0</td>\n",
       "    </tr>\n",
       "    <tr>\n",
       "      <th>8758</th>\n",
       "      <td>3.416347</td>\n",
       "      <td>-0.228364</td>\n",
       "      <td>2022-11-29 22:00:00</td>\n",
       "      <td>2393.89</td>\n",
       "      <td>1</td>\n",
       "      <td>22</td>\n",
       "      <td>11</td>\n",
       "      <td>24.0</td>\n",
       "      <td>26.5</td>\n",
       "      <td>28.0</td>\n",
       "      <td>...</td>\n",
       "      <td>0</td>\n",
       "      <td>0</td>\n",
       "      <td>0</td>\n",
       "      <td>0</td>\n",
       "      <td>0</td>\n",
       "      <td>0</td>\n",
       "      <td>0</td>\n",
       "      <td>0</td>\n",
       "      <td>0</td>\n",
       "      <td>0</td>\n",
       "    </tr>\n",
       "    <tr>\n",
       "      <th>8759</th>\n",
       "      <td>3.416347</td>\n",
       "      <td>-0.228364</td>\n",
       "      <td>2022-11-29 23:00:00</td>\n",
       "      <td>2291.08</td>\n",
       "      <td>1</td>\n",
       "      <td>23</td>\n",
       "      <td>11</td>\n",
       "      <td>24.0</td>\n",
       "      <td>26.5</td>\n",
       "      <td>28.0</td>\n",
       "      <td>...</td>\n",
       "      <td>0</td>\n",
       "      <td>0</td>\n",
       "      <td>0</td>\n",
       "      <td>0</td>\n",
       "      <td>0</td>\n",
       "      <td>0</td>\n",
       "      <td>0</td>\n",
       "      <td>0</td>\n",
       "      <td>0</td>\n",
       "      <td>0</td>\n",
       "    </tr>\n",
       "  </tbody>\n",
       "</table>\n",
       "<p>8760 rows × 31 columns</p>\n",
       "</div>"
      ],
      "text/plain": [
       "      PC1_Weather  PC2_Weather           Date_timed  Energy_Demand  Day  Hour  \\\n",
       "0        1.700324    -0.069763  2021-11-30 00:00:00        2491.00    1     0   \n",
       "1        1.700324    -0.069763  2021-11-30 01:00:00        2394.00    1     1   \n",
       "2        1.700324    -0.069763  2021-11-30 02:00:00        2313.00    1     2   \n",
       "3        1.700324    -0.069763  2021-11-30 03:00:00        2254.00    1     3   \n",
       "4        1.700324    -0.069763  2021-11-30 04:00:00        2203.00    1     4   \n",
       "...           ...          ...                  ...            ...  ...   ...   \n",
       "8755     3.416347    -0.228364  2022-11-29 19:00:00        2557.63    1    19   \n",
       "8756     3.416347    -0.228364  2022-11-29 20:00:00        2520.09    1    20   \n",
       "8757     3.416347    -0.228364  2022-11-29 21:00:00        2483.82    1    21   \n",
       "8758     3.416347    -0.228364  2022-11-29 22:00:00        2393.89    1    22   \n",
       "8759     3.416347    -0.228364  2022-11-29 23:00:00        2291.08    1    23   \n",
       "\n",
       "      Month  Tmax-Cab  Tmax-Hmo  Tmax-Obr  ...  Monday_Holiday  \\\n",
       "0        11      29.5      31.5      29.0  ...               0   \n",
       "1        11      29.5      31.5      29.0  ...               0   \n",
       "2        11      29.5      31.5      29.0  ...               0   \n",
       "3        11      29.5      31.5      29.0  ...               0   \n",
       "4        11      29.5      31.5      29.0  ...               0   \n",
       "...     ...       ...       ...       ...  ...             ...   \n",
       "8755     11      24.0      26.5      28.0  ...               0   \n",
       "8756     11      24.0      26.5      28.0  ...               0   \n",
       "8757     11      24.0      26.5      28.0  ...               0   \n",
       "8758     11      24.0      26.5      28.0  ...               0   \n",
       "8759     11      24.0      26.5      28.0  ...               0   \n",
       "\n",
       "      Tuesday_Aft_Hol  Easter_week  May_1s  May_10t  Sept_16  Nov_2nd  \\\n",
       "0                   0            0       0        0        0        0   \n",
       "1                   0            0       0        0        0        0   \n",
       "2                   0            0       0        0        0        0   \n",
       "3                   0            0       0        0        0        0   \n",
       "4                   0            0       0        0        0        0   \n",
       "...               ...          ...     ...      ...      ...      ...   \n",
       "8755                0            0       0        0        0        0   \n",
       "8756                0            0       0        0        0        0   \n",
       "8757                0            0       0        0        0        0   \n",
       "8758                0            0       0        0        0        0   \n",
       "8759                0            0       0        0        0        0   \n",
       "\n",
       "      Before_Christmas_NY  Christmas_NY  After_Christmas_NY  \n",
       "0                       0             0                   0  \n",
       "1                       0             0                   0  \n",
       "2                       0             0                   0  \n",
       "3                       0             0                   0  \n",
       "4                       0             0                   0  \n",
       "...                   ...           ...                 ...  \n",
       "8755                    0             0                   0  \n",
       "8756                    0             0                   0  \n",
       "8757                    0             0                   0  \n",
       "8758                    0             0                   0  \n",
       "8759                    0             0                   0  \n",
       "\n",
       "[8760 rows x 31 columns]"
      ]
     },
     "execution_count": 33,
     "metadata": {},
     "output_type": "execute_result"
    }
   ],
   "source": [
    "df_test"
   ]
  },
  {
   "cell_type": "code",
   "execution_count": 34,
   "id": "bdaa46c6",
   "metadata": {
    "hidden": true
   },
   "outputs": [],
   "source": [
    "#create forlder/ verify if the folder exists\n",
    "scalers = pk.load(open(\"./outputs/DataProcessing/scalers.pkl\",'rb'))"
   ]
  },
  {
   "cell_type": "code",
   "execution_count": 35,
   "id": "ab5f8788",
   "metadata": {
    "hidden": true
   },
   "outputs": [],
   "source": [
    "scaler = scalers['Energy_Demand']\n",
    "yr = scaler.inverse_transform(y_test[:,:,0].ravel().reshape(-1, 1))\n",
    "yh = scaler.inverse_transform(y_est[:,:,0].ravel().reshape(-1, 1))"
   ]
  },
  {
   "cell_type": "code",
   "execution_count": 36,
   "id": "867ef93e",
   "metadata": {},
   "outputs": [
    {
     "data": {
      "text/html": [
       "<div>\n",
       "<style scoped>\n",
       "    .dataframe tbody tr th:only-of-type {\n",
       "        vertical-align: middle;\n",
       "    }\n",
       "\n",
       "    .dataframe tbody tr th {\n",
       "        vertical-align: top;\n",
       "    }\n",
       "\n",
       "    .dataframe thead th {\n",
       "        text-align: right;\n",
       "    }\n",
       "</style>\n",
       "<table border=\"1\" class=\"dataframe\">\n",
       "  <thead>\n",
       "    <tr style=\"text-align: right;\">\n",
       "      <th></th>\n",
       "      <th>PC1_Weather</th>\n",
       "      <th>PC2_Weather</th>\n",
       "      <th>Date_timed</th>\n",
       "      <th>Energy_Demand</th>\n",
       "      <th>Day</th>\n",
       "      <th>Hour</th>\n",
       "      <th>Month</th>\n",
       "      <th>Tmax-Cab</th>\n",
       "      <th>Tmax-Hmo</th>\n",
       "      <th>Tmax-Obr</th>\n",
       "      <th>...</th>\n",
       "      <th>Monday_Holiday</th>\n",
       "      <th>Tuesday_Aft_Hol</th>\n",
       "      <th>Easter_week</th>\n",
       "      <th>May_1s</th>\n",
       "      <th>May_10t</th>\n",
       "      <th>Sept_16</th>\n",
       "      <th>Nov_2nd</th>\n",
       "      <th>Before_Christmas_NY</th>\n",
       "      <th>Christmas_NY</th>\n",
       "      <th>After_Christmas_NY</th>\n",
       "    </tr>\n",
       "  </thead>\n",
       "  <tbody>\n",
       "    <tr>\n",
       "      <th>8757</th>\n",
       "      <td>3.416347</td>\n",
       "      <td>-0.228364</td>\n",
       "      <td>2022-11-29 21:00:00</td>\n",
       "      <td>2483.82</td>\n",
       "      <td>1</td>\n",
       "      <td>21</td>\n",
       "      <td>11</td>\n",
       "      <td>24.0</td>\n",
       "      <td>26.5</td>\n",
       "      <td>28.0</td>\n",
       "      <td>...</td>\n",
       "      <td>0</td>\n",
       "      <td>0</td>\n",
       "      <td>0</td>\n",
       "      <td>0</td>\n",
       "      <td>0</td>\n",
       "      <td>0</td>\n",
       "      <td>0</td>\n",
       "      <td>0</td>\n",
       "      <td>0</td>\n",
       "      <td>0</td>\n",
       "    </tr>\n",
       "    <tr>\n",
       "      <th>8758</th>\n",
       "      <td>3.416347</td>\n",
       "      <td>-0.228364</td>\n",
       "      <td>2022-11-29 22:00:00</td>\n",
       "      <td>2393.89</td>\n",
       "      <td>1</td>\n",
       "      <td>22</td>\n",
       "      <td>11</td>\n",
       "      <td>24.0</td>\n",
       "      <td>26.5</td>\n",
       "      <td>28.0</td>\n",
       "      <td>...</td>\n",
       "      <td>0</td>\n",
       "      <td>0</td>\n",
       "      <td>0</td>\n",
       "      <td>0</td>\n",
       "      <td>0</td>\n",
       "      <td>0</td>\n",
       "      <td>0</td>\n",
       "      <td>0</td>\n",
       "      <td>0</td>\n",
       "      <td>0</td>\n",
       "    </tr>\n",
       "    <tr>\n",
       "      <th>8759</th>\n",
       "      <td>3.416347</td>\n",
       "      <td>-0.228364</td>\n",
       "      <td>2022-11-29 23:00:00</td>\n",
       "      <td>2291.08</td>\n",
       "      <td>1</td>\n",
       "      <td>23</td>\n",
       "      <td>11</td>\n",
       "      <td>24.0</td>\n",
       "      <td>26.5</td>\n",
       "      <td>28.0</td>\n",
       "      <td>...</td>\n",
       "      <td>0</td>\n",
       "      <td>0</td>\n",
       "      <td>0</td>\n",
       "      <td>0</td>\n",
       "      <td>0</td>\n",
       "      <td>0</td>\n",
       "      <td>0</td>\n",
       "      <td>0</td>\n",
       "      <td>0</td>\n",
       "      <td>0</td>\n",
       "    </tr>\n",
       "  </tbody>\n",
       "</table>\n",
       "<p>3 rows × 31 columns</p>\n",
       "</div>"
      ],
      "text/plain": [
       "      PC1_Weather  PC2_Weather           Date_timed  Energy_Demand  Day  Hour  \\\n",
       "8757     3.416347    -0.228364  2022-11-29 21:00:00        2483.82    1    21   \n",
       "8758     3.416347    -0.228364  2022-11-29 22:00:00        2393.89    1    22   \n",
       "8759     3.416347    -0.228364  2022-11-29 23:00:00        2291.08    1    23   \n",
       "\n",
       "      Month  Tmax-Cab  Tmax-Hmo  Tmax-Obr  ...  Monday_Holiday  \\\n",
       "8757     11      24.0      26.5      28.0  ...               0   \n",
       "8758     11      24.0      26.5      28.0  ...               0   \n",
       "8759     11      24.0      26.5      28.0  ...               0   \n",
       "\n",
       "      Tuesday_Aft_Hol  Easter_week  May_1s  May_10t  Sept_16  Nov_2nd  \\\n",
       "8757                0            0       0        0        0        0   \n",
       "8758                0            0       0        0        0        0   \n",
       "8759                0            0       0        0        0        0   \n",
       "\n",
       "      Before_Christmas_NY  Christmas_NY  After_Christmas_NY  \n",
       "8757                    0             0                   0  \n",
       "8758                    0             0                   0  \n",
       "8759                    0             0                   0  \n",
       "\n",
       "[3 rows x 31 columns]"
      ]
     },
     "execution_count": 36,
     "metadata": {},
     "output_type": "execute_result"
    }
   ],
   "source": [
    "df_test.tail(3)"
   ]
  },
  {
   "cell_type": "code",
   "execution_count": 37,
   "id": "69f60b4a",
   "metadata": {
    "hidden": true
   },
   "outputs": [
    {
     "ename": "ValueError",
     "evalue": "array length 8568 does not match index length 8580",
     "output_type": "error",
     "traceback": [
      "\u001b[0;31m---------------------------------------------------------------------------\u001b[0m",
      "\u001b[0;31mValueError\u001b[0m                                Traceback (most recent call last)",
      "Cell \u001b[0;32mIn[37], line 1\u001b[0m\n\u001b[0;32m----> 1\u001b[0m df_est \u001b[38;5;241m=\u001b[39m \u001b[43mpd\u001b[49m\u001b[38;5;241;43m.\u001b[39;49m\u001b[43mDataFrame\u001b[49m\u001b[43m(\u001b[49m\u001b[43m{\u001b[49m\n\u001b[1;32m      2\u001b[0m \u001b[43m    \u001b[49m\u001b[38;5;124;43m\"\u001b[39;49m\u001b[38;5;124;43mActual\u001b[39;49m\u001b[38;5;124;43m\"\u001b[39;49m\u001b[43m:\u001b[49m\u001b[43m \u001b[49m\u001b[43myr\u001b[49m\u001b[38;5;241;43m.\u001b[39;49m\u001b[43mravel\u001b[49m\u001b[43m(\u001b[49m\u001b[43m)\u001b[49m\u001b[43m,\u001b[49m\n\u001b[1;32m      3\u001b[0m \u001b[43m    \u001b[49m\u001b[38;5;124;43m\"\u001b[39;49m\u001b[38;5;124;43mEstimated\u001b[39;49m\u001b[38;5;124;43m\"\u001b[39;49m\u001b[43m:\u001b[49m\u001b[43m \u001b[49m\u001b[43myh\u001b[49m\u001b[38;5;241;43m.\u001b[39;49m\u001b[43mravel\u001b[49m\u001b[43m(\u001b[49m\u001b[43m)\u001b[49m\u001b[43m,\u001b[49m\n\u001b[1;32m      4\u001b[0m \u001b[43m    \u001b[49m\u001b[38;5;124;43m\"\u001b[39;49m\u001b[38;5;124;43mDate_timed\u001b[39;49m\u001b[38;5;124;43m\"\u001b[39;49m\u001b[43m:\u001b[49m\u001b[43m \u001b[49m\u001b[43mdf_test\u001b[49m\u001b[43m[\u001b[49m\u001b[38;5;124;43m\"\u001b[39;49m\u001b[38;5;124;43mDate_timed\u001b[39;49m\u001b[38;5;124;43m\"\u001b[39;49m\u001b[43m]\u001b[49m\u001b[43m[\u001b[49m\u001b[43mn_pasado\u001b[49m\u001b[43m \u001b[49m\u001b[38;5;241;43m+\u001b[39;49m\u001b[43m \u001b[49m\u001b[43mn_salto\u001b[49m\u001b[43m:\u001b[49m\u001b[43m]\u001b[49m\u001b[43m     \u001b[49m\n\u001b[1;32m      5\u001b[0m \u001b[43m}\u001b[49m\u001b[43m)\u001b[49m\n",
      "File \u001b[0;32m~/.conda/envs/energia/lib/python3.10/site-packages/pandas/core/frame.py:664\u001b[0m, in \u001b[0;36mDataFrame.__init__\u001b[0;34m(self, data, index, columns, dtype, copy)\u001b[0m\n\u001b[1;32m    658\u001b[0m     mgr \u001b[38;5;241m=\u001b[39m \u001b[38;5;28mself\u001b[39m\u001b[38;5;241m.\u001b[39m_init_mgr(\n\u001b[1;32m    659\u001b[0m         data, axes\u001b[38;5;241m=\u001b[39m{\u001b[38;5;124m\"\u001b[39m\u001b[38;5;124mindex\u001b[39m\u001b[38;5;124m\"\u001b[39m: index, \u001b[38;5;124m\"\u001b[39m\u001b[38;5;124mcolumns\u001b[39m\u001b[38;5;124m\"\u001b[39m: columns}, dtype\u001b[38;5;241m=\u001b[39mdtype, copy\u001b[38;5;241m=\u001b[39mcopy\n\u001b[1;32m    660\u001b[0m     )\n\u001b[1;32m    662\u001b[0m \u001b[38;5;28;01melif\u001b[39;00m \u001b[38;5;28misinstance\u001b[39m(data, \u001b[38;5;28mdict\u001b[39m):\n\u001b[1;32m    663\u001b[0m     \u001b[38;5;66;03m# GH#38939 de facto copy defaults to False only in non-dict cases\u001b[39;00m\n\u001b[0;32m--> 664\u001b[0m     mgr \u001b[38;5;241m=\u001b[39m \u001b[43mdict_to_mgr\u001b[49m\u001b[43m(\u001b[49m\u001b[43mdata\u001b[49m\u001b[43m,\u001b[49m\u001b[43m \u001b[49m\u001b[43mindex\u001b[49m\u001b[43m,\u001b[49m\u001b[43m \u001b[49m\u001b[43mcolumns\u001b[49m\u001b[43m,\u001b[49m\u001b[43m \u001b[49m\u001b[43mdtype\u001b[49m\u001b[38;5;241;43m=\u001b[39;49m\u001b[43mdtype\u001b[49m\u001b[43m,\u001b[49m\u001b[43m \u001b[49m\u001b[43mcopy\u001b[49m\u001b[38;5;241;43m=\u001b[39;49m\u001b[43mcopy\u001b[49m\u001b[43m,\u001b[49m\u001b[43m \u001b[49m\u001b[43mtyp\u001b[49m\u001b[38;5;241;43m=\u001b[39;49m\u001b[43mmanager\u001b[49m\u001b[43m)\u001b[49m\n\u001b[1;32m    665\u001b[0m \u001b[38;5;28;01melif\u001b[39;00m \u001b[38;5;28misinstance\u001b[39m(data, ma\u001b[38;5;241m.\u001b[39mMaskedArray):\n\u001b[1;32m    666\u001b[0m     \u001b[38;5;28;01mimport\u001b[39;00m \u001b[38;5;21;01mnumpy\u001b[39;00m\u001b[38;5;21;01m.\u001b[39;00m\u001b[38;5;21;01mma\u001b[39;00m\u001b[38;5;21;01m.\u001b[39;00m\u001b[38;5;21;01mmrecords\u001b[39;00m \u001b[38;5;28;01mas\u001b[39;00m \u001b[38;5;21;01mmrecords\u001b[39;00m\n",
      "File \u001b[0;32m~/.conda/envs/energia/lib/python3.10/site-packages/pandas/core/internals/construction.py:493\u001b[0m, in \u001b[0;36mdict_to_mgr\u001b[0;34m(data, index, columns, dtype, typ, copy)\u001b[0m\n\u001b[1;32m    489\u001b[0m     \u001b[38;5;28;01melse\u001b[39;00m:\n\u001b[1;32m    490\u001b[0m         \u001b[38;5;66;03m# dtype check to exclude e.g. range objects, scalars\u001b[39;00m\n\u001b[1;32m    491\u001b[0m         arrays \u001b[38;5;241m=\u001b[39m [x\u001b[38;5;241m.\u001b[39mcopy() \u001b[38;5;28;01mif\u001b[39;00m \u001b[38;5;28mhasattr\u001b[39m(x, \u001b[38;5;124m\"\u001b[39m\u001b[38;5;124mdtype\u001b[39m\u001b[38;5;124m\"\u001b[39m) \u001b[38;5;28;01melse\u001b[39;00m x \u001b[38;5;28;01mfor\u001b[39;00m x \u001b[38;5;129;01min\u001b[39;00m arrays]\n\u001b[0;32m--> 493\u001b[0m \u001b[38;5;28;01mreturn\u001b[39;00m \u001b[43marrays_to_mgr\u001b[49m\u001b[43m(\u001b[49m\u001b[43marrays\u001b[49m\u001b[43m,\u001b[49m\u001b[43m \u001b[49m\u001b[43mcolumns\u001b[49m\u001b[43m,\u001b[49m\u001b[43m \u001b[49m\u001b[43mindex\u001b[49m\u001b[43m,\u001b[49m\u001b[43m \u001b[49m\u001b[43mdtype\u001b[49m\u001b[38;5;241;43m=\u001b[39;49m\u001b[43mdtype\u001b[49m\u001b[43m,\u001b[49m\u001b[43m \u001b[49m\u001b[43mtyp\u001b[49m\u001b[38;5;241;43m=\u001b[39;49m\u001b[43mtyp\u001b[49m\u001b[43m,\u001b[49m\u001b[43m \u001b[49m\u001b[43mconsolidate\u001b[49m\u001b[38;5;241;43m=\u001b[39;49m\u001b[43mcopy\u001b[49m\u001b[43m)\u001b[49m\n",
      "File \u001b[0;32m~/.conda/envs/energia/lib/python3.10/site-packages/pandas/core/internals/construction.py:118\u001b[0m, in \u001b[0;36marrays_to_mgr\u001b[0;34m(arrays, columns, index, dtype, verify_integrity, typ, consolidate)\u001b[0m\n\u001b[1;32m    115\u001b[0m \u001b[38;5;28;01mif\u001b[39;00m verify_integrity:\n\u001b[1;32m    116\u001b[0m     \u001b[38;5;66;03m# figure out the index, if necessary\u001b[39;00m\n\u001b[1;32m    117\u001b[0m     \u001b[38;5;28;01mif\u001b[39;00m index \u001b[38;5;129;01mis\u001b[39;00m \u001b[38;5;28;01mNone\u001b[39;00m:\n\u001b[0;32m--> 118\u001b[0m         index \u001b[38;5;241m=\u001b[39m \u001b[43m_extract_index\u001b[49m\u001b[43m(\u001b[49m\u001b[43marrays\u001b[49m\u001b[43m)\u001b[49m\n\u001b[1;32m    119\u001b[0m     \u001b[38;5;28;01melse\u001b[39;00m:\n\u001b[1;32m    120\u001b[0m         index \u001b[38;5;241m=\u001b[39m ensure_index(index)\n",
      "File \u001b[0;32m~/.conda/envs/energia/lib/python3.10/site-packages/pandas/core/internals/construction.py:680\u001b[0m, in \u001b[0;36m_extract_index\u001b[0;34m(data)\u001b[0m\n\u001b[1;32m    675\u001b[0m     \u001b[38;5;28;01mif\u001b[39;00m lengths[\u001b[38;5;241m0\u001b[39m] \u001b[38;5;241m!=\u001b[39m \u001b[38;5;28mlen\u001b[39m(index):\n\u001b[1;32m    676\u001b[0m         msg \u001b[38;5;241m=\u001b[39m (\n\u001b[1;32m    677\u001b[0m             \u001b[38;5;124mf\u001b[39m\u001b[38;5;124m\"\u001b[39m\u001b[38;5;124marray length \u001b[39m\u001b[38;5;132;01m{\u001b[39;00mlengths[\u001b[38;5;241m0\u001b[39m]\u001b[38;5;132;01m}\u001b[39;00m\u001b[38;5;124m does not match index \u001b[39m\u001b[38;5;124m\"\u001b[39m\n\u001b[1;32m    678\u001b[0m             \u001b[38;5;124mf\u001b[39m\u001b[38;5;124m\"\u001b[39m\u001b[38;5;124mlength \u001b[39m\u001b[38;5;132;01m{\u001b[39;00m\u001b[38;5;28mlen\u001b[39m(index)\u001b[38;5;132;01m}\u001b[39;00m\u001b[38;5;124m\"\u001b[39m\n\u001b[1;32m    679\u001b[0m         )\n\u001b[0;32m--> 680\u001b[0m         \u001b[38;5;28;01mraise\u001b[39;00m \u001b[38;5;167;01mValueError\u001b[39;00m(msg)\n\u001b[1;32m    681\u001b[0m \u001b[38;5;28;01melse\u001b[39;00m:\n\u001b[1;32m    682\u001b[0m     index \u001b[38;5;241m=\u001b[39m default_index(lengths[\u001b[38;5;241m0\u001b[39m])\n",
      "\u001b[0;31mValueError\u001b[0m: array length 8568 does not match index length 8580"
     ]
    }
   ],
   "source": [
    "df_est = pd.DataFrame({\n",
    "    \"Actual\": yr.ravel(),\n",
    "    \"Estimated\": yh.ravel(),\n",
    "    \"Date_timed\": df_test[\"Date_timed\"][n_pasado + n_salto:]     \n",
    "})"
   ]
  },
  {
   "cell_type": "code",
   "execution_count": null,
   "id": "30cb6c74",
   "metadata": {
    "hidden": true
   },
   "outputs": [],
   "source": [
    "df_est['Date_timed']= pd.to_datetime(df_est['Date_timed'])\n",
    "df_est[\"Hour\"] = df_est['Date_timed'].dt.hour"
   ]
  },
  {
   "cell_type": "code",
   "execution_count": null,
   "id": "1b283b8f",
   "metadata": {
    "hidden": true
   },
   "outputs": [],
   "source": [
    "real=[]\n",
    "estimada =[]\n",
    "\n",
    "df_est_result = pd.DataFrame(columns=['Date_timed',\"MAPE\"])\n",
    "\n",
    "for i, row in df_est.iterrows():\n",
    "\n",
    "    n = row['Hour']\n",
    "    \n",
    "    real.append(row['Actual'])\n",
    "    estimada.append(row['Estimated'])\n",
    "    \n",
    "   \n",
    "    if n == 23: #35 < de las sig, 36 hrs\n",
    "        df_est_result = df_est_result.append(pd.DataFrame({\"Date_timed\": row['Date_timed'],\n",
    "                                           \"MAPE\": (mean_absolute_percentage_error(real, estimada))*100, \n",
    "                                           \"R2\": stats.pearsonr(real, estimada)[0]}, \n",
    "                                            index=[0]), ignore_index=True)\n",
    "        n=0\n",
    "        \n",
    "        real=[]\n",
    "        estimada =[]\n",
    "    n+=1\n"
   ]
  },
  {
   "cell_type": "code",
   "execution_count": null,
   "id": "cac331c3",
   "metadata": {},
   "outputs": [],
   "source": [
    "df_est_result"
   ]
  },
  {
   "cell_type": "code",
   "execution_count": null,
   "id": "519c3e24",
   "metadata": {},
   "outputs": [],
   "source": [
    "df_est_result.to_csv('./outputs/Training_comparativos/corrida_pcagral_25_5.csv')\n",
    "df_est.to_csv('./outputs/Training_comparativos/tabla_original_pcagral_25_5.csv')"
   ]
  },
  {
   "cell_type": "code",
   "execution_count": null,
   "id": "7f96ea73",
   "metadata": {},
   "outputs": [],
   "source": [
    "df_est_result['Date'] = df_est_result['Date_timed'].astype(str)\n",
    "df_est_result['Date'] = df_est_result['Date'].str[:10]\n",
    "df_est_result['Date'] = pd.to_datetime(df_est_result['Date'])"
   ]
  },
  {
   "cell_type": "markdown",
   "id": "df060560",
   "metadata": {},
   "source": [
    "### Seasons splits"
   ]
  },
  {
   "cell_type": "code",
   "execution_count": null,
   "id": "7ae3d690",
   "metadata": {},
   "outputs": [],
   "source": [
    "df_est_result_summer = df_est_result[(df_est_result['Date'] >= '2022-06-21') \n",
    "                   & (df_est_result['Date'] < '2022-09-23')]\n",
    "\n",
    "df_est_result_autumn = df_est_result[(df_est_result['Date'] >= '2021-09-23') \n",
    "                   & (df_est_result['Date'] < '2022-12-21')]\n",
    "\n",
    "df_est_result_winter = df_est_result[(df_est_result['Date'] >= '2021-12-21') \n",
    "                   & (df_est_result['Date'] < '2022-03-21')]\n",
    "\n",
    "df_est_result_spring = df_est_result[(df_est_result['Date'] >= '2022-03-21') \n",
    "                   & (df_est_result['Date'] < '2022-06-21')]"
   ]
  },
  {
   "cell_type": "code",
   "execution_count": null,
   "id": "7f23205a",
   "metadata": {},
   "outputs": [],
   "source": [
    "fig = go.Figure()\n",
    "\n",
    "fig.add_trace(go.Violin(y=df_est_result_spring['MAPE'],\n",
    "                        name='SPRING MAPE',\n",
    "                        box_visible=True,\n",
    "                        meanline_visible=True,\n",
    "                        fillcolor=\"rgba(158, 202, 57,0.5)\", \n",
    "                        line=dict(color=\"#9eca39\")))\n",
    "\n",
    "fig.add_trace(go.Violin(y=df_est_result_summer['MAPE'],\n",
    "                        name='SUMMER MAPE',\n",
    "                        box_visible=True,\n",
    "                        meanline_visible=True,\n",
    "                        fillcolor=\"rgba(249, 190, 4,0.5)\", \n",
    "                        line=dict(color=\"#F9BE04\")))\n",
    "\n",
    "fig.add_trace(go.Violin(y=df_est_result_autumn['MAPE'],\n",
    "                        name='AUTUMN MAPE',\n",
    "                        box_visible=True,\n",
    "                        meanline_visible=True,\n",
    "                        fillcolor=\"rgba(198, 111, 66,0.5)\", \n",
    "                        line=dict(color=\"#C66F42\")))\n",
    "\n",
    "fig.add_trace(go.Violin(y=df_est_result_winter['MAPE'],\n",
    "                        name='WINTER MAPE',\n",
    "                        box_visible=True,\n",
    "                        meanline_visible=True,\n",
    "                        fillcolor=\"rgba(112, 163, 187,0.5)\", \n",
    "                        line=dict(color=\"#70A3BB\")))\n",
    "\n",
    "\n",
    "\n",
    "fig.update_layout(title_text=\"MAPE 4 Seasons\", height=600) \n",
    "fig.show(renderer = \"notebook\")\n",
    "#iplot(fig, image='svg', filename='violinplotmapelstmendoderdecoder', image_width=1280, image_height=640)"
   ]
  },
  {
   "cell_type": "code",
   "execution_count": null,
   "id": "e2bb9bab",
   "metadata": {},
   "outputs": [],
   "source": [
    "#TEST CHART BY MONTH\n",
    "\n",
    "fig = go.Figure()\n",
    "\n",
    "fig.add_trace(go.Violin(y=df_est_result_january['MAPE'],\n",
    "                        name='January MAPE',\n",
    "                        box_visible=True,\n",
    "                        meanline_visible=True,\n",
    "                        fillcolor=\"rgba(158, 202, 57,0.5)\", \n",
    "                        line=dict(color=\"#9eca39\")))\n",
    "\n",
    "fig.add_trace(go.Violin(y=df_est_result_february['MAPE'],\n",
    "                        name='February MAPE',\n",
    "                        box_visible=True,\n",
    "                        meanline_visible=True,\n",
    "                        fillcolor=\"rgba(249, 190, 4,0.5)\", \n",
    "                        line=dict(color=\"#F9BE04\")))\n",
    "\n",
    "fig.add_trace(go.Violin(y=df_est_result_march['MAPE'],\n",
    "                        name='March MAPE',\n",
    "                        box_visible=True,\n",
    "                        meanline_visible=True,\n",
    "                        fillcolor=\"rgba(198, 111, 66,0.5)\", \n",
    "                        line=dict(color=\"#C66F42\")))\n",
    "\n",
    "# Add more traces for the remaining months\n",
    "\n",
    "fig.update_layout(title_text=\"MAPE by Month\",\n",
    "                   xaxis_title=\"Month\",\n",
    "                   yaxis_title=\"MAPE\",\n",
    "                   height=600)\n",
    "\n",
    "# Update the x-axis labels to display the month names\n",
    "fig.update_xaxes(type='category',\n",
    "                 categoryorder='category ascending',\n",
    "                 categoryarray=['January', 'February', 'March', ...])\n",
    "\n",
    "fig.show(renderer = \"notebook\")\n"
   ]
  },
  {
   "cell_type": "code",
   "execution_count": null,
   "id": "4301b600",
   "metadata": {},
   "outputs": [],
   "source": []
  },
  {
   "cell_type": "code",
   "execution_count": null,
   "id": "814b0758",
   "metadata": {},
   "outputs": [],
   "source": []
  },
  {
   "cell_type": "code",
   "execution_count": null,
   "id": "49d7efab",
   "metadata": {},
   "outputs": [],
   "source": [
    "#AGREGAR LS GRAFICAS POR DIA, MES Y HORA DEL DIA"
   ]
  },
  {
   "cell_type": "markdown",
   "id": "bf87cb75",
   "metadata": {
    "heading_collapsed": true
   },
   "source": [
    "## 6.   Model export"
   ]
  },
  {
   "cell_type": "markdown",
   "id": "bae147ec",
   "metadata": {},
   "source": [
    "**H5** is a file format to store structured data, it's not a model by itself. Keras saves models in this format as it can easily store the weights and model configuration in a single file."
   ]
  },
  {
   "cell_type": "code",
   "execution_count": null,
   "id": "2f816541",
   "metadata": {
    "hidden": true
   },
   "outputs": [],
   "source": [
    "modelo.save('./outputs/h5/modelo.h5')"
   ]
  },
  {
   "cell_type": "code",
   "execution_count": null,
   "id": "64eb30dc",
   "metadata": {
    "hidden": true
   },
   "outputs": [],
   "source": [
    "#from IPython import display\n",
    "#display.Image(\"https://mcd.unison.mx/wp-content/themes/awaken/img/logo_mcd.png\", embed = True)"
   ]
  },
  {
   "cell_type": "markdown",
   "id": "1d7dc08d",
   "metadata": {
    "hidden": true
   },
   "source": [
    "<summary>\n",
    "    <font size=\"4\" color=\"gray\"> Maestría en Ciencia de Datos | Universidad de Sonora </font>\n",
    "</summary>\n",
    "<font size=\"1\" color=\"gray\"> Blvd. Luis Encinas y Rosales s/n Col. Centro. Edificio 3K1 planta baja C.P. 83000, Hermosillo, Sonora, México </font>\n",
    "<font size=\"1\" color=\"gray\"> mcd@unison.mx </font>\n",
    "<font size=\"1\" color=\"gray\"> Tel: +52 (662) 259 2155  </font>"
   ]
  }
 ],
 "metadata": {
  "kernelspec": {
   "display_name": "energia",
   "language": "python",
   "name": "energia"
  },
  "language_info": {
   "codemirror_mode": {
    "name": "ipython",
    "version": 3
   },
   "file_extension": ".py",
   "mimetype": "text/x-python",
   "name": "python",
   "nbconvert_exporter": "python",
   "pygments_lexer": "ipython3",
   "version": "3.10.9"
  },
  "vscode": {
   "interpreter": {
    "hash": "e46e305cb1b2e9023b322cb83f073976ae87c5c5e6ccde536e6571681080371c"
   }
  }
 },
 "nbformat": 4,
 "nbformat_minor": 5
}
