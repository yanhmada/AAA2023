{
 "cells": [
  {
   "cell_type": "code",
   "execution_count": 1,
   "id": "e054f61a",
   "metadata": {},
   "outputs": [],
   "source": [
    "import warnings\n",
    "warnings.filterwarnings('ignore')"
   ]
  },
  {
   "cell_type": "markdown",
   "id": "6d5ab337",
   "metadata": {},
   "source": [
    "<font size=\"3\" color=\"Teal\"><b>Model 0 </b></font>\n",
    "\n",
    "* **Data group 01** : Includes data from 2007/01/01 to 2023/03/29 including Energy Demand in the Zone, actual meteorological variables and holidays of Mexico."
   ]
  },
  {
   "cell_type": "markdown",
   "id": "9c0b28f1",
   "metadata": {
    "heading_collapsed": true
   },
   "source": [
    "## 1.   Importing Preprocessed data"
   ]
  },
  {
   "cell_type": "markdown",
   "id": "0dd9a27a",
   "metadata": {
    "hidden": true
   },
   "source": [
    "<summary>\n",
    "    <font size=\"4\" color=\"SteelBlue\"><b>1.1 Importing libraries and functions</b></font>\n",
    "</summary>"
   ]
  },
  {
   "cell_type": "code",
   "execution_count": 2,
   "id": "5a7c2c32",
   "metadata": {
    "hidden": true
   },
   "outputs": [],
   "source": [
    "# Basic libraries\n",
    "import numpy as np\n",
    "import pandas as pd\n",
    "import datetime\n",
    "from dateutil.relativedelta import relativedelta\n",
    "\n",
    "# Normalization libraries\n",
    "from sklearn.preprocessing import MinMaxScaler\n",
    "from sklearn.metrics import r2_score\n",
    "from sklearn.decomposition import PCA\n",
    "import pickle as pk"
   ]
  },
  {
   "cell_type": "code",
   "execution_count": 3,
   "id": "de30b86c",
   "metadata": {
    "hidden": true
   },
   "outputs": [],
   "source": [
    "# Importing PCA functions for futher processing\n",
    "%run \"./funciones/Y00pcafunction.ipynb\""
   ]
  },
  {
   "cell_type": "markdown",
   "id": "4888e327",
   "metadata": {},
   "source": [
    "<summary>\n",
    "    <font size=\"4\" color=\"SteelBlue\"><b>1.2 Importing Dataframe from 'group01_allq2.csv'</b></font>\n",
    "</summary>"
   ]
  },
  {
   "cell_type": "code",
   "execution_count": 4,
   "id": "2a2a2b0a",
   "metadata": {},
   "outputs": [],
   "source": [
    "#Save new datafrime with dated index\n",
    "df_energy = pd.read_csv(\"./inputs/group01_allq2.csv\", parse_dates=True)\n",
    "df_energy['Date_time'] =  pd.to_datetime(df_energy['Date_time'],format='%Y/%m/%d %H:%M:%S')\n",
    "#df_energy['Date'] =  pd.to_datetime(df_energy['Date'],format='%Y/%m/%d')\n",
    "df_energy.set_index(\"Date_time\", inplace=True)\n",
    "df_energy=df_energy.asfreq('h')"
   ]
  },
  {
   "cell_type": "markdown",
   "id": "a2cd7ed1",
   "metadata": {
    "hidden": true
   },
   "source": [
    " <font size=\"3\" color=\"Teal\"><b>Exogenous Calendar Features </b></font>"
   ]
  },
  {
   "cell_type": "markdown",
   "id": "e2b6d6d8",
   "metadata": {
    "hidden": true
   },
   "source": [
    " The following columns are included related to Date and  Holidays of Mexico: \n",
    " 'Day', 'Hour', 'Month'. Day stands for weekday (0 Monday to 6 Sunday)\n",
    " 'Monday_Holiday', 'Tuesday_Aft_Hol', 'Easter_week',\n",
    "       'May_1s', 'May_10t', 'Sept_16', 'Nov_2nd', 'Before_Christmas_NY',\n",
    "       'Christmas_NY', 'After_Christmas_NY', 'Date_timed'\n"
   ]
  },
  {
   "cell_type": "markdown",
   "id": "dcece77a",
   "metadata": {
    "hidden": true
   },
   "source": [
    "<font size=\"3\" color=\"Teal\"><b>Endogenous Feature</b></font>"
   ]
  },
  {
   "cell_type": "markdown",
   "id": "8570e17e",
   "metadata": {
    "hidden": true
   },
   "source": [
    "* **Energy Demand** (MW): Load energy demand in GCRNO (Gerencia de Control de Noroeste)  zone from hour $i$ to hour $i+1$ of the corresponding date, for $i=0,\\dots 23$."
   ]
  },
  {
   "cell_type": "markdown",
   "id": "4201c1b8",
   "metadata": {
    "hidden": true
   },
   "source": [
    "\n",
    "<font size=\"3\" color=\"teal\"><b>Exogenous Meteorological Features</b></font>"
   ]
  },
  {
   "cell_type": "markdown",
   "id": "1763af59",
   "metadata": {
    "hidden": true
   },
   "source": [
    "* **Tmax-Cab**, **Tmin-Cab**, **Tmax-Hmo**, **Tmin-Hmo**, **Tmax-Obr**, **Tmin-Obr**,**Tmax-Lmo**, **Tmin-Lmo**, **Tmax-Cul**, **Tmin-Cul** ($^\\circ$C): Maximum and minimum temperature in Caborca, Hermosillo, Ciudad Obregón, Los Mochis and Culiacán, respectively.\n",
    "\n",
    "* **Prec_Hmo_Mm**, **Prec_Obr_Mm**, **Prec_Lmo_Mm**, **Prec_Cul_Mm**  (mm/h): Precipitation in Hermosillo, Ciudad Obregón, Los Mochis and Culiacán, respectively.\n"
   ]
  },
  {
   "cell_type": "code",
   "execution_count": 5,
   "id": "63bb8065",
   "metadata": {},
   "outputs": [
    {
     "data": {
      "text/html": [
       "<div>\n",
       "<style scoped>\n",
       "    .dataframe tbody tr th:only-of-type {\n",
       "        vertical-align: middle;\n",
       "    }\n",
       "\n",
       "    .dataframe tbody tr th {\n",
       "        vertical-align: top;\n",
       "    }\n",
       "\n",
       "    .dataframe thead th {\n",
       "        text-align: right;\n",
       "    }\n",
       "</style>\n",
       "<table border=\"1\" class=\"dataframe\">\n",
       "  <thead>\n",
       "    <tr style=\"text-align: right;\">\n",
       "      <th></th>\n",
       "      <th>Energy_Demand</th>\n",
       "      <th>Day</th>\n",
       "      <th>Hour</th>\n",
       "      <th>Month</th>\n",
       "      <th>Year</th>\n",
       "      <th>Tmax-Cab</th>\n",
       "      <th>Tmax-Hmo</th>\n",
       "      <th>Tmax-Obr</th>\n",
       "      <th>Tmax-Lmo</th>\n",
       "      <th>Tmax-Cul</th>\n",
       "      <th>...</th>\n",
       "      <th>Tuesday_Aft_Hol</th>\n",
       "      <th>Easter_week</th>\n",
       "      <th>May_1s</th>\n",
       "      <th>May_10t</th>\n",
       "      <th>Sept_16</th>\n",
       "      <th>Nov_2nd</th>\n",
       "      <th>Before_Christmas_NY</th>\n",
       "      <th>Christmas_NY</th>\n",
       "      <th>After_Christmas_NY</th>\n",
       "      <th>Date_timed</th>\n",
       "    </tr>\n",
       "    <tr>\n",
       "      <th>Date_time</th>\n",
       "      <th></th>\n",
       "      <th></th>\n",
       "      <th></th>\n",
       "      <th></th>\n",
       "      <th></th>\n",
       "      <th></th>\n",
       "      <th></th>\n",
       "      <th></th>\n",
       "      <th></th>\n",
       "      <th></th>\n",
       "      <th></th>\n",
       "      <th></th>\n",
       "      <th></th>\n",
       "      <th></th>\n",
       "      <th></th>\n",
       "      <th></th>\n",
       "      <th></th>\n",
       "      <th></th>\n",
       "      <th></th>\n",
       "      <th></th>\n",
       "      <th></th>\n",
       "    </tr>\n",
       "  </thead>\n",
       "  <tbody>\n",
       "    <tr>\n",
       "      <th>2007-01-01 00:00:00</th>\n",
       "      <td>1297.0</td>\n",
       "      <td>0</td>\n",
       "      <td>0</td>\n",
       "      <td>1</td>\n",
       "      <td>2007</td>\n",
       "      <td>21.0</td>\n",
       "      <td>22.0</td>\n",
       "      <td>25.0</td>\n",
       "      <td>30.0</td>\n",
       "      <td>29.0</td>\n",
       "      <td>...</td>\n",
       "      <td>0</td>\n",
       "      <td>0</td>\n",
       "      <td>0</td>\n",
       "      <td>0</td>\n",
       "      <td>0</td>\n",
       "      <td>0</td>\n",
       "      <td>0</td>\n",
       "      <td>1</td>\n",
       "      <td>0</td>\n",
       "      <td>2007-01-01 00:00:00</td>\n",
       "    </tr>\n",
       "    <tr>\n",
       "      <th>2007-01-01 01:00:00</th>\n",
       "      <td>1255.0</td>\n",
       "      <td>0</td>\n",
       "      <td>1</td>\n",
       "      <td>1</td>\n",
       "      <td>2007</td>\n",
       "      <td>21.0</td>\n",
       "      <td>22.0</td>\n",
       "      <td>25.0</td>\n",
       "      <td>30.0</td>\n",
       "      <td>29.0</td>\n",
       "      <td>...</td>\n",
       "      <td>0</td>\n",
       "      <td>0</td>\n",
       "      <td>0</td>\n",
       "      <td>0</td>\n",
       "      <td>0</td>\n",
       "      <td>0</td>\n",
       "      <td>0</td>\n",
       "      <td>1</td>\n",
       "      <td>0</td>\n",
       "      <td>2007-01-01 01:00:00</td>\n",
       "    </tr>\n",
       "  </tbody>\n",
       "</table>\n",
       "<p>2 rows × 30 columns</p>\n",
       "</div>"
      ],
      "text/plain": [
       "                     Energy_Demand  Day  Hour  Month  Year  Tmax-Cab  \\\n",
       "Date_time                                                              \n",
       "2007-01-01 00:00:00         1297.0    0     0      1  2007      21.0   \n",
       "2007-01-01 01:00:00         1255.0    0     1      1  2007      21.0   \n",
       "\n",
       "                     Tmax-Hmo  Tmax-Obr  Tmax-Lmo  Tmax-Cul  ...  \\\n",
       "Date_time                                                    ...   \n",
       "2007-01-01 00:00:00      22.0      25.0      30.0      29.0  ...   \n",
       "2007-01-01 01:00:00      22.0      25.0      30.0      29.0  ...   \n",
       "\n",
       "                     Tuesday_Aft_Hol  Easter_week  May_1s  May_10t  Sept_16  \\\n",
       "Date_time                                                                     \n",
       "2007-01-01 00:00:00                0            0       0        0        0   \n",
       "2007-01-01 01:00:00                0            0       0        0        0   \n",
       "\n",
       "                     Nov_2nd  Before_Christmas_NY  Christmas_NY  \\\n",
       "Date_time                                                         \n",
       "2007-01-01 00:00:00        0                    0             1   \n",
       "2007-01-01 01:00:00        0                    0             1   \n",
       "\n",
       "                     After_Christmas_NY          Date_timed  \n",
       "Date_time                                                    \n",
       "2007-01-01 00:00:00                   0 2007-01-01 00:00:00  \n",
       "2007-01-01 01:00:00                   0 2007-01-01 01:00:00  \n",
       "\n",
       "[2 rows x 30 columns]"
      ]
     },
     "execution_count": 5,
     "metadata": {},
     "output_type": "execute_result"
    }
   ],
   "source": [
    "# Adding Date-Timed as 'duplicate' column for flexibility\n",
    "df_energy['Date_timed'] = df_energy.index\n",
    "df_energy.head(2)"
   ]
  },
  {
   "cell_type": "code",
   "execution_count": 6,
   "id": "c1a45562",
   "metadata": {},
   "outputs": [
    {
     "data": {
      "text/html": [
       "<div>\n",
       "<style scoped>\n",
       "    .dataframe tbody tr th:only-of-type {\n",
       "        vertical-align: middle;\n",
       "    }\n",
       "\n",
       "    .dataframe tbody tr th {\n",
       "        vertical-align: top;\n",
       "    }\n",
       "\n",
       "    .dataframe thead th {\n",
       "        text-align: right;\n",
       "    }\n",
       "</style>\n",
       "<table border=\"1\" class=\"dataframe\">\n",
       "  <thead>\n",
       "    <tr style=\"text-align: right;\">\n",
       "      <th></th>\n",
       "      <th>Energy_Demand</th>\n",
       "      <th>Day</th>\n",
       "      <th>Hour</th>\n",
       "      <th>Month</th>\n",
       "      <th>Tmax-Cab</th>\n",
       "      <th>Tmax-Hmo</th>\n",
       "      <th>Tmax-Obr</th>\n",
       "      <th>Tmax-Lmo</th>\n",
       "      <th>Tmax-Cul</th>\n",
       "      <th>Tmin-Cab</th>\n",
       "      <th>...</th>\n",
       "      <th>Tuesday_Aft_Hol</th>\n",
       "      <th>Easter_week</th>\n",
       "      <th>May_1s</th>\n",
       "      <th>May_10t</th>\n",
       "      <th>Sept_16</th>\n",
       "      <th>Nov_2nd</th>\n",
       "      <th>Before_Christmas_NY</th>\n",
       "      <th>Christmas_NY</th>\n",
       "      <th>After_Christmas_NY</th>\n",
       "      <th>Date_timed</th>\n",
       "    </tr>\n",
       "    <tr>\n",
       "      <th>Date_time</th>\n",
       "      <th></th>\n",
       "      <th></th>\n",
       "      <th></th>\n",
       "      <th></th>\n",
       "      <th></th>\n",
       "      <th></th>\n",
       "      <th></th>\n",
       "      <th></th>\n",
       "      <th></th>\n",
       "      <th></th>\n",
       "      <th></th>\n",
       "      <th></th>\n",
       "      <th></th>\n",
       "      <th></th>\n",
       "      <th></th>\n",
       "      <th></th>\n",
       "      <th></th>\n",
       "      <th></th>\n",
       "      <th></th>\n",
       "      <th></th>\n",
       "      <th></th>\n",
       "    </tr>\n",
       "  </thead>\n",
       "  <tbody>\n",
       "    <tr>\n",
       "      <th>2023-03-29 22:00:00</th>\n",
       "      <td>2584.34</td>\n",
       "      <td>2</td>\n",
       "      <td>22</td>\n",
       "      <td>3</td>\n",
       "      <td>30.2</td>\n",
       "      <td>32.0</td>\n",
       "      <td>32.1</td>\n",
       "      <td>31.5</td>\n",
       "      <td>33.0</td>\n",
       "      <td>12.4</td>\n",
       "      <td>...</td>\n",
       "      <td>0</td>\n",
       "      <td>0</td>\n",
       "      <td>0</td>\n",
       "      <td>0</td>\n",
       "      <td>0</td>\n",
       "      <td>0</td>\n",
       "      <td>0</td>\n",
       "      <td>0</td>\n",
       "      <td>0</td>\n",
       "      <td>2023-03-29 22:00:00</td>\n",
       "    </tr>\n",
       "    <tr>\n",
       "      <th>2023-03-29 23:00:00</th>\n",
       "      <td>2492.83</td>\n",
       "      <td>2</td>\n",
       "      <td>23</td>\n",
       "      <td>3</td>\n",
       "      <td>30.2</td>\n",
       "      <td>32.0</td>\n",
       "      <td>32.1</td>\n",
       "      <td>31.5</td>\n",
       "      <td>33.0</td>\n",
       "      <td>12.4</td>\n",
       "      <td>...</td>\n",
       "      <td>0</td>\n",
       "      <td>0</td>\n",
       "      <td>0</td>\n",
       "      <td>0</td>\n",
       "      <td>0</td>\n",
       "      <td>0</td>\n",
       "      <td>0</td>\n",
       "      <td>0</td>\n",
       "      <td>0</td>\n",
       "      <td>2023-03-29 23:00:00</td>\n",
       "    </tr>\n",
       "  </tbody>\n",
       "</table>\n",
       "<p>2 rows × 29 columns</p>\n",
       "</div>"
      ],
      "text/plain": [
       "                     Energy_Demand  Day  Hour  Month  Tmax-Cab  Tmax-Hmo  \\\n",
       "Date_time                                                                  \n",
       "2023-03-29 22:00:00        2584.34    2    22      3      30.2      32.0   \n",
       "2023-03-29 23:00:00        2492.83    2    23      3      30.2      32.0   \n",
       "\n",
       "                     Tmax-Obr  Tmax-Lmo  Tmax-Cul  Tmin-Cab  ...  \\\n",
       "Date_time                                                    ...   \n",
       "2023-03-29 22:00:00      32.1      31.5      33.0      12.4  ...   \n",
       "2023-03-29 23:00:00      32.1      31.5      33.0      12.4  ...   \n",
       "\n",
       "                     Tuesday_Aft_Hol  Easter_week  May_1s  May_10t  Sept_16  \\\n",
       "Date_time                                                                     \n",
       "2023-03-29 22:00:00                0            0       0        0        0   \n",
       "2023-03-29 23:00:00                0            0       0        0        0   \n",
       "\n",
       "                     Nov_2nd  Before_Christmas_NY  Christmas_NY  \\\n",
       "Date_time                                                         \n",
       "2023-03-29 22:00:00        0                    0             0   \n",
       "2023-03-29 23:00:00        0                    0             0   \n",
       "\n",
       "                     After_Christmas_NY          Date_timed  \n",
       "Date_time                                                    \n",
       "2023-03-29 22:00:00                   0 2023-03-29 22:00:00  \n",
       "2023-03-29 23:00:00                   0 2023-03-29 23:00:00  \n",
       "\n",
       "[2 rows x 29 columns]"
      ]
     },
     "execution_count": 6,
     "metadata": {},
     "output_type": "execute_result"
    }
   ],
   "source": [
    "df_energy.drop('Year', axis=1, inplace= True)\n",
    "#df_e.drop('year', axis=1, inplace=True)\n",
    "df_energy.tail(2)"
   ]
  },
  {
   "cell_type": "code",
   "execution_count": 7,
   "id": "ecb46155",
   "metadata": {},
   "outputs": [
    {
     "data": {
      "text/plain": [
       "(142368, 29)"
      ]
     },
     "execution_count": 7,
     "metadata": {},
     "output_type": "execute_result"
    }
   ],
   "source": [
    "df_energy.shape"
   ]
  },
  {
   "cell_type": "markdown",
   "id": "5bb6175c",
   "metadata": {
    "heading_collapsed": true
   },
   "source": [
    "## 2.   Splitting data into training, test and validation sets"
   ]
  },
  {
   "cell_type": "markdown",
   "id": "a1848576",
   "metadata": {
    "hidden": true
   },
   "source": [
    "**Separation into validation and testing**\n",
    "Validation takes into account the last 4 Months of available Data.\n",
    "\n",
    "**Testing:** Takes into account 12 Months previous to the Validation Data.\n",
    "\n",
    "**Training:** All other available data after splitting validation and testing.\n",
    "\n"
   ]
  },
  {
   "cell_type": "code",
   "execution_count": 8,
   "id": "92b81a4f",
   "metadata": {},
   "outputs": [
    {
     "name": "stdout",
     "output_type": "stream",
     "text": [
      "validation starts  2022-11-29 23:00:00 \n",
      "test starts:  2021-11-29 23:00:00\n"
     ]
    }
   ],
   "source": [
    "from datetime import datetime, timedelta\n",
    "\n",
    "# Define the split dates for the validation and testing sets\n",
    "validation_end = df_energy.index.max() - relativedelta(months=4)\n",
    "testing_end = validation_end - relativedelta(months=12)\n",
    "print(f'validation starts ',validation_end,'\\ntest starts: ', testing_end)"
   ]
  },
  {
   "cell_type": "code",
   "execution_count": 9,
   "id": "7957f58e",
   "metadata": {},
   "outputs": [
    {
     "name": "stdout",
     "output_type": "stream",
     "text": [
      "Training data size: 130728\n",
      "Testing data size: 8760\n",
      "Validation data size: 2880\n"
     ]
    }
   ],
   "source": [
    "# Split the data into training, validation, and testing sets\n",
    "training_data = df_energy.loc[df_energy.index <= testing_end]\n",
    "testing_data = df_energy.loc[(df_energy.index > testing_end) & (df_energy.index <= validation_end)]\n",
    "validation_data = df_energy.loc[df_energy.index > validation_end]\n",
    "\n",
    "# Print the sizes of the resulting sets\n",
    "print(f'Training data size: {len(training_data)}')\n",
    "print(f'Testing data size: {len(testing_data)}')\n",
    "print(f'Validation data size: {len(validation_data)}')"
   ]
  },
  {
   "cell_type": "code",
   "execution_count": 10,
   "id": "d0f4a8b1",
   "metadata": {},
   "outputs": [
    {
     "name": "stdout",
     "output_type": "stream",
     "text": [
      "Training set starts: 2007-01-01 00:00:00 Training set ends: 2021-11-29 23:00:00\n",
      "Testing set starts: 2021-11-30 00:00:00 Testing set ends: 2022-11-29 23:00:00\n",
      "Validation set starts: 2022-11-30 00:00:00 Validation set ends: 2023-03-29 23:00:00\n"
     ]
    }
   ],
   "source": [
    "# Print the shape of each data set.\n",
    "print('Training set starts:', training_data.index.min(), \n",
    "      'Training set ends:', training_data.index.max() )\n",
    "print( 'Testing set starts:', testing_data.index.min(), \n",
    "       'Testing set ends:', testing_data.index.max())\n",
    "print('Validation set starts:', validation_data.index.min(), \n",
    "      'Validation set ends:', validation_data.index.max() )\n"
   ]
  },
  {
   "cell_type": "code",
   "execution_count": 11,
   "id": "f0f16da7",
   "metadata": {},
   "outputs": [
    {
     "data": {
      "text/plain": [
       "Index(['Energy_Demand', 'Day', 'Hour', 'Month', 'Tmax-Cab', 'Tmax-Hmo',\n",
       "       'Tmax-Obr', 'Tmax-Lmo', 'Tmax-Cul', 'Tmin-Cab', 'Tmin-Hmo', 'Tmin-Obr',\n",
       "       'Tmin-Lmo', 'Tmin-Cul', 'Prec_Hmo_Mm', 'Prec_Obr_Mm', 'Prec_Lmo_Mm',\n",
       "       'Prec_Cul_Mm', 'Monday_Holiday', 'Tuesday_Aft_Hol', 'Easter_week',\n",
       "       'May_1s', 'May_10t', 'Sept_16', 'Nov_2nd', 'Before_Christmas_NY',\n",
       "       'Christmas_NY', 'After_Christmas_NY', 'Date_timed'],\n",
       "      dtype='object')"
      ]
     },
     "execution_count": 11,
     "metadata": {},
     "output_type": "execute_result"
    }
   ],
   "source": [
    "df_energy.columns"
   ]
  },
  {
   "cell_type": "markdown",
   "id": "1d3718d1",
   "metadata": {
    "heading_collapsed": true
   },
   "source": [
    "## 3.    Feature engineering"
   ]
  },
  {
   "cell_type": "markdown",
   "id": "ea71edb7",
   "metadata": {
    "hidden": true
   },
   "source": [
    "The  <font size=\"3\" color=\"palevioletred\"><b>random features</b></font> of the training dataframe are recoded (via a principal component procedure) on the features:\n",
    "\n",
    "\n",
    "* **PC1_MAX, PC2_MAX, PC1_TMIN, PC2_TMIN, PCI_PREC, PC2_PREC** \n",
    "\n",
    "\n",
    "The features **PC2_TMAX**  and **PC2_TMIN** will be ignored later to avoid linear redundance. Then, these and the rest of the features are rescaled into the closed interval $[-1,1]$. The parameters of both procedures are exported and then applied in the test and validation set."
   ]
  },
  {
   "cell_type": "markdown",
   "id": "19a33460",
   "metadata": {
    "hidden": true
   },
   "source": [
    "<summary>\n",
    "    <font size=\"4\" color=\"teal\"><b>3.1 PCA procedure </b></font>\n",
    "</summary>"
   ]
  },
  {
   "cell_type": "code",
   "execution_count": 12,
   "id": "a654ed0c",
   "metadata": {
    "hidden": true
   },
   "outputs": [],
   "source": [
    "# Setting new columns from training set\n",
    "pca_exogenas_train, pca_clima,scaler_model_clima= exogen_pca(training_data, 'Date_timed')\n",
    "pca_exogenas_train.to_csv('./outputs/PCA/pca_exogenas_train.csv')\n",
    "# Applying training parameters to:\n",
    "## Test set  \n",
    "pca_exogenas_test = transform_data(testing_data,'Date_timed',pca_clima,scaler_model_clima)\n",
    "pca_exogenas_test.to_csv('./outputs/PCA/pca_exogenas_test.csv')\n",
    "## Validation test\n",
    "pca_exogenas_val = transform_data(validation_data,'Date_timed',pca_clima,scaler_model_clima)\n",
    "pca_exogenas_val.to_csv('./outputs/PCA/pca_exogenas_val.csv')"
   ]
  },
  {
   "cell_type": "code",
   "execution_count": 13,
   "id": "0e3ed5f9",
   "metadata": {
    "hidden": true
   },
   "outputs": [],
   "source": [
    "# exporting processing parameters for use outside the notebook\n",
    "pk.dump(pca_clima, open(\"./outputs/PCA/pca_clima.pkl\",\"wb\"))\n",
    "pk.dump(scaler_model_clima, open(\"./outputs/PCA/scaler_model_clima.pkl\",\"wb\"))"
   ]
  },
  {
   "cell_type": "code",
   "execution_count": 14,
   "id": "e5393cf5",
   "metadata": {},
   "outputs": [
    {
     "name": "stdout",
     "output_type": "stream",
     "text": [
      "Folder already exists at ./outputs/DataProcessing/\n"
     ]
    }
   ],
   "source": [
    "#Check if folder exists\n",
    "import os\n",
    "\n",
    "folder_path = './outputs/DataProcessing/'\n",
    "\n",
    "if not os.path.exists(folder_path):\n",
    "    os.makedirs(folder_path)\n",
    "    print(f'Folder created at {folder_path}')\n",
    "else:\n",
    "    print(f'Folder already exists at {folder_path}')\n",
    "    "
   ]
  },
  {
   "cell_type": "code",
   "execution_count": 15,
   "id": "7505cbf8",
   "metadata": {},
   "outputs": [
    {
     "data": {
      "text/plain": [
       "Index(['PC1_Weather', 'PC2_Weather', 'Date_timed', 'Energy_Demand', 'Day',\n",
       "       'Hour', 'Month', 'Tmax-Cab', 'Tmax-Hmo', 'Tmax-Obr', 'Tmax-Lmo',\n",
       "       'Tmax-Cul', 'Tmin-Cab', 'Tmin-Hmo', 'Tmin-Obr', 'Tmin-Lmo', 'Tmin-Cul',\n",
       "       'Prec_Hmo_Mm', 'Prec_Obr_Mm', 'Prec_Lmo_Mm', 'Prec_Cul_Mm',\n",
       "       'Monday_Holiday', 'Tuesday_Aft_Hol', 'Easter_week', 'May_1s', 'May_10t',\n",
       "       'Sept_16', 'Nov_2nd', 'Before_Christmas_NY', 'Christmas_NY',\n",
       "       'After_Christmas_NY'],\n",
       "      dtype='object')"
      ]
     },
     "execution_count": 15,
     "metadata": {},
     "output_type": "execute_result"
    }
   ],
   "source": [
    "pca_exogenas_test.columns"
   ]
  },
  {
   "cell_type": "markdown",
   "id": "4e461c31",
   "metadata": {
    "hidden": true
   },
   "source": [
    "<summary>\n",
    "    <font size=\"4\" color=\"teal\"><b>3.2. Rescaling all features into a closed interval $[-1,1]$ </b></font>\n",
    "</summary>"
   ]
  },
  {
   "cell_type": "code",
   "execution_count": 16,
   "id": "bd7f222e",
   "metadata": {
    "hidden": true
   },
   "outputs": [],
   "source": [
    "\n",
    "Features = ['Energy_Demand', 'Day', 'Hour', 'Month','PC1_Weather', 'PC2_Weather',\n",
    "            'Monday_Holiday', 'Tuesday_Aft_Hol', 'Easter_week', 'May_1s', 'May_10t', \n",
    "            'Sept_16', 'Nov_2nd', 'Before_Christmas_NY', 'Christmas_NY', 'After_Christmas_NY']"
   ]
  },
  {
   "cell_type": "code",
   "execution_count": 17,
   "id": "ee1b4840",
   "metadata": {},
   "outputs": [
    {
     "name": "stdout",
     "output_type": "stream",
     "text": [
      "Folder already exists at ./outputs/DataProcessing/\n"
     ]
    }
   ],
   "source": [
    "import os\n",
    "\n",
    "folder_path = './outputs/DataProcessing/'\n",
    "\n",
    "if not os.path.exists(folder_path):\n",
    "    os.makedirs(folder_path)\n",
    "    print(f'Folder created at {folder_path}')\n",
    "else:\n",
    "    print(f'Folder already exists at {folder_path}')\n"
   ]
  },
  {
   "cell_type": "code",
   "execution_count": 18,
   "id": "ba7c73a2",
   "metadata": {},
   "outputs": [],
   "source": [
    "# Rescaling training set\n",
    "train = pca_exogenas_train\n",
    "scalers = {}  # Un diccionario con los scalers\n",
    "\n",
    "for attr in Features:\n",
    "    scaler = MinMaxScaler(feature_range=(-1, 1))\n",
    "    s_s = scaler.fit_transform(train[attr].values.reshape(-1,1))\n",
    "    scalers[attr] = scaler\n",
    "    train[attr] = s_s.ravel()\n",
    "#train.info()\n",
    "\n",
    "# Applying training parameters to:\n",
    "# Validation set \n",
    "val = pca_exogenas_val\n",
    "for attr in Features:\n",
    "    scaler = scalers[attr]\n",
    "    s_s = scaler.transform(val[attr].values.reshape(-1,1))\n",
    "    val[attr] = s_s.ravel()\n",
    "# Test set\n",
    "test = pca_exogenas_test\n",
    "for attr in Features:\n",
    "    scaler = scalers[attr]\n",
    "    s_s = scaler.transform(test[attr].values.reshape(-1,1))\n",
    "    test[attr] = s_s.ravel()"
   ]
  },
  {
   "cell_type": "code",
   "execution_count": 19,
   "id": "39b26450",
   "metadata": {
    "hidden": true
   },
   "outputs": [],
   "source": [
    "# exporting processing parameters for use outside the notebook\n",
    "pk.dump(scalers, open(\"./outputs/DataProcessing/scalers.pkl\",\"wb\"))"
   ]
  },
  {
   "cell_type": "markdown",
   "id": "85d79a18",
   "metadata": {
    "hidden": true
   },
   "source": [
    "<summary>\n",
    "    <font size=\"4\" color=\"teal\"><b>3.3 Training set view</b></font>\n",
    "</summary>"
   ]
  },
  {
   "cell_type": "code",
   "execution_count": 20,
   "id": "3b8ff2be",
   "metadata": {},
   "outputs": [
    {
     "data": {
      "text/html": [
       "<div>\n",
       "<style scoped>\n",
       "    .dataframe tbody tr th:only-of-type {\n",
       "        vertical-align: middle;\n",
       "    }\n",
       "\n",
       "    .dataframe tbody tr th {\n",
       "        vertical-align: top;\n",
       "    }\n",
       "\n",
       "    .dataframe thead th {\n",
       "        text-align: right;\n",
       "    }\n",
       "</style>\n",
       "<table border=\"1\" class=\"dataframe\">\n",
       "  <thead>\n",
       "    <tr style=\"text-align: right;\">\n",
       "      <th></th>\n",
       "      <th>PC1_Weather</th>\n",
       "      <th>PC2_Weather</th>\n",
       "      <th>Energy_Demand</th>\n",
       "      <th>Day</th>\n",
       "      <th>Hour</th>\n",
       "      <th>Month</th>\n",
       "      <th>Tmax-Cab</th>\n",
       "      <th>Tmax-Hmo</th>\n",
       "      <th>Tmax-Obr</th>\n",
       "      <th>Tmax-Lmo</th>\n",
       "      <th>...</th>\n",
       "      <th>Monday_Holiday</th>\n",
       "      <th>Tuesday_Aft_Hol</th>\n",
       "      <th>Easter_week</th>\n",
       "      <th>May_1s</th>\n",
       "      <th>May_10t</th>\n",
       "      <th>Sept_16</th>\n",
       "      <th>Nov_2nd</th>\n",
       "      <th>Before_Christmas_NY</th>\n",
       "      <th>Christmas_NY</th>\n",
       "      <th>After_Christmas_NY</th>\n",
       "    </tr>\n",
       "  </thead>\n",
       "  <tbody>\n",
       "    <tr>\n",
       "      <th>0</th>\n",
       "      <td>0.342080</td>\n",
       "      <td>-0.932098</td>\n",
       "      <td>-0.847748</td>\n",
       "      <td>-1.0</td>\n",
       "      <td>-1.000000</td>\n",
       "      <td>-1.000000</td>\n",
       "      <td>21.0</td>\n",
       "      <td>22.0</td>\n",
       "      <td>25.0</td>\n",
       "      <td>30.0</td>\n",
       "      <td>...</td>\n",
       "      <td>-1.0</td>\n",
       "      <td>-1.0</td>\n",
       "      <td>-1.0</td>\n",
       "      <td>-1.0</td>\n",
       "      <td>-1.0</td>\n",
       "      <td>-1.0</td>\n",
       "      <td>-1.0</td>\n",
       "      <td>-1.0</td>\n",
       "      <td>1.0</td>\n",
       "      <td>-1.0</td>\n",
       "    </tr>\n",
       "    <tr>\n",
       "      <th>1</th>\n",
       "      <td>0.342080</td>\n",
       "      <td>-0.932098</td>\n",
       "      <td>-0.866667</td>\n",
       "      <td>-1.0</td>\n",
       "      <td>-0.913043</td>\n",
       "      <td>-1.000000</td>\n",
       "      <td>21.0</td>\n",
       "      <td>22.0</td>\n",
       "      <td>25.0</td>\n",
       "      <td>30.0</td>\n",
       "      <td>...</td>\n",
       "      <td>-1.0</td>\n",
       "      <td>-1.0</td>\n",
       "      <td>-1.0</td>\n",
       "      <td>-1.0</td>\n",
       "      <td>-1.0</td>\n",
       "      <td>-1.0</td>\n",
       "      <td>-1.0</td>\n",
       "      <td>-1.0</td>\n",
       "      <td>1.0</td>\n",
       "      <td>-1.0</td>\n",
       "    </tr>\n",
       "    <tr>\n",
       "      <th>2</th>\n",
       "      <td>0.342080</td>\n",
       "      <td>-0.932098</td>\n",
       "      <td>-0.881532</td>\n",
       "      <td>-1.0</td>\n",
       "      <td>-0.826087</td>\n",
       "      <td>-1.000000</td>\n",
       "      <td>21.0</td>\n",
       "      <td>22.0</td>\n",
       "      <td>25.0</td>\n",
       "      <td>30.0</td>\n",
       "      <td>...</td>\n",
       "      <td>-1.0</td>\n",
       "      <td>-1.0</td>\n",
       "      <td>-1.0</td>\n",
       "      <td>-1.0</td>\n",
       "      <td>-1.0</td>\n",
       "      <td>-1.0</td>\n",
       "      <td>-1.0</td>\n",
       "      <td>-1.0</td>\n",
       "      <td>1.0</td>\n",
       "      <td>-1.0</td>\n",
       "    </tr>\n",
       "    <tr>\n",
       "      <th>3</th>\n",
       "      <td>0.342080</td>\n",
       "      <td>-0.932098</td>\n",
       "      <td>-0.905856</td>\n",
       "      <td>-1.0</td>\n",
       "      <td>-0.739130</td>\n",
       "      <td>-1.000000</td>\n",
       "      <td>21.0</td>\n",
       "      <td>22.0</td>\n",
       "      <td>25.0</td>\n",
       "      <td>30.0</td>\n",
       "      <td>...</td>\n",
       "      <td>-1.0</td>\n",
       "      <td>-1.0</td>\n",
       "      <td>-1.0</td>\n",
       "      <td>-1.0</td>\n",
       "      <td>-1.0</td>\n",
       "      <td>-1.0</td>\n",
       "      <td>-1.0</td>\n",
       "      <td>-1.0</td>\n",
       "      <td>1.0</td>\n",
       "      <td>-1.0</td>\n",
       "    </tr>\n",
       "    <tr>\n",
       "      <th>4</th>\n",
       "      <td>0.342080</td>\n",
       "      <td>-0.932098</td>\n",
       "      <td>-0.923874</td>\n",
       "      <td>-1.0</td>\n",
       "      <td>-0.652174</td>\n",
       "      <td>-1.000000</td>\n",
       "      <td>21.0</td>\n",
       "      <td>22.0</td>\n",
       "      <td>25.0</td>\n",
       "      <td>30.0</td>\n",
       "      <td>...</td>\n",
       "      <td>-1.0</td>\n",
       "      <td>-1.0</td>\n",
       "      <td>-1.0</td>\n",
       "      <td>-1.0</td>\n",
       "      <td>-1.0</td>\n",
       "      <td>-1.0</td>\n",
       "      <td>-1.0</td>\n",
       "      <td>-1.0</td>\n",
       "      <td>1.0</td>\n",
       "      <td>-1.0</td>\n",
       "    </tr>\n",
       "    <tr>\n",
       "      <th>...</th>\n",
       "      <td>...</td>\n",
       "      <td>...</td>\n",
       "      <td>...</td>\n",
       "      <td>...</td>\n",
       "      <td>...</td>\n",
       "      <td>...</td>\n",
       "      <td>...</td>\n",
       "      <td>...</td>\n",
       "      <td>...</td>\n",
       "      <td>...</td>\n",
       "      <td>...</td>\n",
       "      <td>...</td>\n",
       "      <td>...</td>\n",
       "      <td>...</td>\n",
       "      <td>...</td>\n",
       "      <td>...</td>\n",
       "      <td>...</td>\n",
       "      <td>...</td>\n",
       "      <td>...</td>\n",
       "      <td>...</td>\n",
       "      <td>...</td>\n",
       "    </tr>\n",
       "    <tr>\n",
       "      <th>130723</th>\n",
       "      <td>-0.065175</td>\n",
       "      <td>-0.940153</td>\n",
       "      <td>-0.181982</td>\n",
       "      <td>-1.0</td>\n",
       "      <td>0.652174</td>\n",
       "      <td>0.818182</td>\n",
       "      <td>29.5</td>\n",
       "      <td>31.5</td>\n",
       "      <td>30.0</td>\n",
       "      <td>29.5</td>\n",
       "      <td>...</td>\n",
       "      <td>-1.0</td>\n",
       "      <td>-1.0</td>\n",
       "      <td>-1.0</td>\n",
       "      <td>-1.0</td>\n",
       "      <td>-1.0</td>\n",
       "      <td>-1.0</td>\n",
       "      <td>-1.0</td>\n",
       "      <td>-1.0</td>\n",
       "      <td>-1.0</td>\n",
       "      <td>-1.0</td>\n",
       "    </tr>\n",
       "    <tr>\n",
       "      <th>130724</th>\n",
       "      <td>-0.065175</td>\n",
       "      <td>-0.940153</td>\n",
       "      <td>-0.198198</td>\n",
       "      <td>-1.0</td>\n",
       "      <td>0.739130</td>\n",
       "      <td>0.818182</td>\n",
       "      <td>29.5</td>\n",
       "      <td>31.5</td>\n",
       "      <td>30.0</td>\n",
       "      <td>29.5</td>\n",
       "      <td>...</td>\n",
       "      <td>-1.0</td>\n",
       "      <td>-1.0</td>\n",
       "      <td>-1.0</td>\n",
       "      <td>-1.0</td>\n",
       "      <td>-1.0</td>\n",
       "      <td>-1.0</td>\n",
       "      <td>-1.0</td>\n",
       "      <td>-1.0</td>\n",
       "      <td>-1.0</td>\n",
       "      <td>-1.0</td>\n",
       "    </tr>\n",
       "    <tr>\n",
       "      <th>130725</th>\n",
       "      <td>-0.065175</td>\n",
       "      <td>-0.940153</td>\n",
       "      <td>-0.210360</td>\n",
       "      <td>-1.0</td>\n",
       "      <td>0.826087</td>\n",
       "      <td>0.818182</td>\n",
       "      <td>29.5</td>\n",
       "      <td>31.5</td>\n",
       "      <td>30.0</td>\n",
       "      <td>29.5</td>\n",
       "      <td>...</td>\n",
       "      <td>-1.0</td>\n",
       "      <td>-1.0</td>\n",
       "      <td>-1.0</td>\n",
       "      <td>-1.0</td>\n",
       "      <td>-1.0</td>\n",
       "      <td>-1.0</td>\n",
       "      <td>-1.0</td>\n",
       "      <td>-1.0</td>\n",
       "      <td>-1.0</td>\n",
       "      <td>-1.0</td>\n",
       "    </tr>\n",
       "    <tr>\n",
       "      <th>130726</th>\n",
       "      <td>-0.065175</td>\n",
       "      <td>-0.940153</td>\n",
       "      <td>-0.232432</td>\n",
       "      <td>-1.0</td>\n",
       "      <td>0.913043</td>\n",
       "      <td>0.818182</td>\n",
       "      <td>29.5</td>\n",
       "      <td>31.5</td>\n",
       "      <td>30.0</td>\n",
       "      <td>29.5</td>\n",
       "      <td>...</td>\n",
       "      <td>-1.0</td>\n",
       "      <td>-1.0</td>\n",
       "      <td>-1.0</td>\n",
       "      <td>-1.0</td>\n",
       "      <td>-1.0</td>\n",
       "      <td>-1.0</td>\n",
       "      <td>-1.0</td>\n",
       "      <td>-1.0</td>\n",
       "      <td>-1.0</td>\n",
       "      <td>-1.0</td>\n",
       "    </tr>\n",
       "    <tr>\n",
       "      <th>130727</th>\n",
       "      <td>-0.065175</td>\n",
       "      <td>-0.940153</td>\n",
       "      <td>-0.263063</td>\n",
       "      <td>-1.0</td>\n",
       "      <td>1.000000</td>\n",
       "      <td>0.818182</td>\n",
       "      <td>29.5</td>\n",
       "      <td>31.5</td>\n",
       "      <td>30.0</td>\n",
       "      <td>29.5</td>\n",
       "      <td>...</td>\n",
       "      <td>-1.0</td>\n",
       "      <td>-1.0</td>\n",
       "      <td>-1.0</td>\n",
       "      <td>-1.0</td>\n",
       "      <td>-1.0</td>\n",
       "      <td>-1.0</td>\n",
       "      <td>-1.0</td>\n",
       "      <td>-1.0</td>\n",
       "      <td>-1.0</td>\n",
       "      <td>-1.0</td>\n",
       "    </tr>\n",
       "  </tbody>\n",
       "</table>\n",
       "<p>130728 rows × 30 columns</p>\n",
       "</div>"
      ],
      "text/plain": [
       "        PC1_Weather  PC2_Weather  Energy_Demand  Day      Hour     Month  \\\n",
       "0          0.342080    -0.932098      -0.847748 -1.0 -1.000000 -1.000000   \n",
       "1          0.342080    -0.932098      -0.866667 -1.0 -0.913043 -1.000000   \n",
       "2          0.342080    -0.932098      -0.881532 -1.0 -0.826087 -1.000000   \n",
       "3          0.342080    -0.932098      -0.905856 -1.0 -0.739130 -1.000000   \n",
       "4          0.342080    -0.932098      -0.923874 -1.0 -0.652174 -1.000000   \n",
       "...             ...          ...            ...  ...       ...       ...   \n",
       "130723    -0.065175    -0.940153      -0.181982 -1.0  0.652174  0.818182   \n",
       "130724    -0.065175    -0.940153      -0.198198 -1.0  0.739130  0.818182   \n",
       "130725    -0.065175    -0.940153      -0.210360 -1.0  0.826087  0.818182   \n",
       "130726    -0.065175    -0.940153      -0.232432 -1.0  0.913043  0.818182   \n",
       "130727    -0.065175    -0.940153      -0.263063 -1.0  1.000000  0.818182   \n",
       "\n",
       "        Tmax-Cab  Tmax-Hmo  Tmax-Obr  Tmax-Lmo  ...  Monday_Holiday  \\\n",
       "0           21.0      22.0      25.0      30.0  ...            -1.0   \n",
       "1           21.0      22.0      25.0      30.0  ...            -1.0   \n",
       "2           21.0      22.0      25.0      30.0  ...            -1.0   \n",
       "3           21.0      22.0      25.0      30.0  ...            -1.0   \n",
       "4           21.0      22.0      25.0      30.0  ...            -1.0   \n",
       "...          ...       ...       ...       ...  ...             ...   \n",
       "130723      29.5      31.5      30.0      29.5  ...            -1.0   \n",
       "130724      29.5      31.5      30.0      29.5  ...            -1.0   \n",
       "130725      29.5      31.5      30.0      29.5  ...            -1.0   \n",
       "130726      29.5      31.5      30.0      29.5  ...            -1.0   \n",
       "130727      29.5      31.5      30.0      29.5  ...            -1.0   \n",
       "\n",
       "        Tuesday_Aft_Hol  Easter_week  May_1s  May_10t  Sept_16  Nov_2nd  \\\n",
       "0                  -1.0         -1.0    -1.0     -1.0     -1.0     -1.0   \n",
       "1                  -1.0         -1.0    -1.0     -1.0     -1.0     -1.0   \n",
       "2                  -1.0         -1.0    -1.0     -1.0     -1.0     -1.0   \n",
       "3                  -1.0         -1.0    -1.0     -1.0     -1.0     -1.0   \n",
       "4                  -1.0         -1.0    -1.0     -1.0     -1.0     -1.0   \n",
       "...                 ...          ...     ...      ...      ...      ...   \n",
       "130723             -1.0         -1.0    -1.0     -1.0     -1.0     -1.0   \n",
       "130724             -1.0         -1.0    -1.0     -1.0     -1.0     -1.0   \n",
       "130725             -1.0         -1.0    -1.0     -1.0     -1.0     -1.0   \n",
       "130726             -1.0         -1.0    -1.0     -1.0     -1.0     -1.0   \n",
       "130727             -1.0         -1.0    -1.0     -1.0     -1.0     -1.0   \n",
       "\n",
       "        Before_Christmas_NY  Christmas_NY  After_Christmas_NY  \n",
       "0                      -1.0           1.0                -1.0  \n",
       "1                      -1.0           1.0                -1.0  \n",
       "2                      -1.0           1.0                -1.0  \n",
       "3                      -1.0           1.0                -1.0  \n",
       "4                      -1.0           1.0                -1.0  \n",
       "...                     ...           ...                 ...  \n",
       "130723                 -1.0          -1.0                -1.0  \n",
       "130724                 -1.0          -1.0                -1.0  \n",
       "130725                 -1.0          -1.0                -1.0  \n",
       "130726                 -1.0          -1.0                -1.0  \n",
       "130727                 -1.0          -1.0                -1.0  \n",
       "\n",
       "[130728 rows x 30 columns]"
      ]
     },
     "execution_count": 20,
     "metadata": {},
     "output_type": "execute_result"
    }
   ],
   "source": [
    "train"
   ]
  },
  {
   "cell_type": "code",
   "execution_count": 21,
   "id": "6147a168",
   "metadata": {
    "hidden": true
   },
   "outputs": [
    {
     "data": {
      "text/html": [
       "<div>\n",
       "<style scoped>\n",
       "    .dataframe tbody tr th:only-of-type {\n",
       "        vertical-align: middle;\n",
       "    }\n",
       "\n",
       "    .dataframe tbody tr th {\n",
       "        vertical-align: top;\n",
       "    }\n",
       "\n",
       "    .dataframe thead th {\n",
       "        text-align: right;\n",
       "    }\n",
       "</style>\n",
       "<table border=\"1\" class=\"dataframe\">\n",
       "  <thead>\n",
       "    <tr style=\"text-align: right;\">\n",
       "      <th></th>\n",
       "      <th>Energy_Demand</th>\n",
       "      <th>Day</th>\n",
       "      <th>Hour</th>\n",
       "      <th>Month</th>\n",
       "      <th>PC1_Weather</th>\n",
       "      <th>PC2_Weather</th>\n",
       "      <th>Monday_Holiday</th>\n",
       "      <th>After_Christmas_NY</th>\n",
       "    </tr>\n",
       "  </thead>\n",
       "  <tbody>\n",
       "    <tr>\n",
       "      <th>0</th>\n",
       "      <td>-0.847748</td>\n",
       "      <td>-1.0</td>\n",
       "      <td>-1.000000</td>\n",
       "      <td>-1.000000</td>\n",
       "      <td>0.342080</td>\n",
       "      <td>-0.932098</td>\n",
       "      <td>-1.0</td>\n",
       "      <td>-1.0</td>\n",
       "    </tr>\n",
       "    <tr>\n",
       "      <th>1</th>\n",
       "      <td>-0.866667</td>\n",
       "      <td>-1.0</td>\n",
       "      <td>-0.913043</td>\n",
       "      <td>-1.000000</td>\n",
       "      <td>0.342080</td>\n",
       "      <td>-0.932098</td>\n",
       "      <td>-1.0</td>\n",
       "      <td>-1.0</td>\n",
       "    </tr>\n",
       "    <tr>\n",
       "      <th>2</th>\n",
       "      <td>-0.881532</td>\n",
       "      <td>-1.0</td>\n",
       "      <td>-0.826087</td>\n",
       "      <td>-1.000000</td>\n",
       "      <td>0.342080</td>\n",
       "      <td>-0.932098</td>\n",
       "      <td>-1.0</td>\n",
       "      <td>-1.0</td>\n",
       "    </tr>\n",
       "    <tr>\n",
       "      <th>3</th>\n",
       "      <td>-0.905856</td>\n",
       "      <td>-1.0</td>\n",
       "      <td>-0.739130</td>\n",
       "      <td>-1.000000</td>\n",
       "      <td>0.342080</td>\n",
       "      <td>-0.932098</td>\n",
       "      <td>-1.0</td>\n",
       "      <td>-1.0</td>\n",
       "    </tr>\n",
       "    <tr>\n",
       "      <th>4</th>\n",
       "      <td>-0.923874</td>\n",
       "      <td>-1.0</td>\n",
       "      <td>-0.652174</td>\n",
       "      <td>-1.000000</td>\n",
       "      <td>0.342080</td>\n",
       "      <td>-0.932098</td>\n",
       "      <td>-1.0</td>\n",
       "      <td>-1.0</td>\n",
       "    </tr>\n",
       "    <tr>\n",
       "      <th>...</th>\n",
       "      <td>...</td>\n",
       "      <td>...</td>\n",
       "      <td>...</td>\n",
       "      <td>...</td>\n",
       "      <td>...</td>\n",
       "      <td>...</td>\n",
       "      <td>...</td>\n",
       "      <td>...</td>\n",
       "    </tr>\n",
       "    <tr>\n",
       "      <th>130723</th>\n",
       "      <td>-0.181982</td>\n",
       "      <td>-1.0</td>\n",
       "      <td>0.652174</td>\n",
       "      <td>0.818182</td>\n",
       "      <td>-0.065175</td>\n",
       "      <td>-0.940153</td>\n",
       "      <td>-1.0</td>\n",
       "      <td>-1.0</td>\n",
       "    </tr>\n",
       "    <tr>\n",
       "      <th>130724</th>\n",
       "      <td>-0.198198</td>\n",
       "      <td>-1.0</td>\n",
       "      <td>0.739130</td>\n",
       "      <td>0.818182</td>\n",
       "      <td>-0.065175</td>\n",
       "      <td>-0.940153</td>\n",
       "      <td>-1.0</td>\n",
       "      <td>-1.0</td>\n",
       "    </tr>\n",
       "    <tr>\n",
       "      <th>130725</th>\n",
       "      <td>-0.210360</td>\n",
       "      <td>-1.0</td>\n",
       "      <td>0.826087</td>\n",
       "      <td>0.818182</td>\n",
       "      <td>-0.065175</td>\n",
       "      <td>-0.940153</td>\n",
       "      <td>-1.0</td>\n",
       "      <td>-1.0</td>\n",
       "    </tr>\n",
       "    <tr>\n",
       "      <th>130726</th>\n",
       "      <td>-0.232432</td>\n",
       "      <td>-1.0</td>\n",
       "      <td>0.913043</td>\n",
       "      <td>0.818182</td>\n",
       "      <td>-0.065175</td>\n",
       "      <td>-0.940153</td>\n",
       "      <td>-1.0</td>\n",
       "      <td>-1.0</td>\n",
       "    </tr>\n",
       "    <tr>\n",
       "      <th>130727</th>\n",
       "      <td>-0.263063</td>\n",
       "      <td>-1.0</td>\n",
       "      <td>1.000000</td>\n",
       "      <td>0.818182</td>\n",
       "      <td>-0.065175</td>\n",
       "      <td>-0.940153</td>\n",
       "      <td>-1.0</td>\n",
       "      <td>-1.0</td>\n",
       "    </tr>\n",
       "  </tbody>\n",
       "</table>\n",
       "<p>130728 rows × 8 columns</p>\n",
       "</div>"
      ],
      "text/plain": [
       "        Energy_Demand  Day      Hour     Month  PC1_Weather  PC2_Weather  \\\n",
       "0           -0.847748 -1.0 -1.000000 -1.000000     0.342080    -0.932098   \n",
       "1           -0.866667 -1.0 -0.913043 -1.000000     0.342080    -0.932098   \n",
       "2           -0.881532 -1.0 -0.826087 -1.000000     0.342080    -0.932098   \n",
       "3           -0.905856 -1.0 -0.739130 -1.000000     0.342080    -0.932098   \n",
       "4           -0.923874 -1.0 -0.652174 -1.000000     0.342080    -0.932098   \n",
       "...               ...  ...       ...       ...          ...          ...   \n",
       "130723      -0.181982 -1.0  0.652174  0.818182    -0.065175    -0.940153   \n",
       "130724      -0.198198 -1.0  0.739130  0.818182    -0.065175    -0.940153   \n",
       "130725      -0.210360 -1.0  0.826087  0.818182    -0.065175    -0.940153   \n",
       "130726      -0.232432 -1.0  0.913043  0.818182    -0.065175    -0.940153   \n",
       "130727      -0.263063 -1.0  1.000000  0.818182    -0.065175    -0.940153   \n",
       "\n",
       "        Monday_Holiday  After_Christmas_NY  \n",
       "0                 -1.0                -1.0  \n",
       "1                 -1.0                -1.0  \n",
       "2                 -1.0                -1.0  \n",
       "3                 -1.0                -1.0  \n",
       "4                 -1.0                -1.0  \n",
       "...                ...                 ...  \n",
       "130723            -1.0                -1.0  \n",
       "130724            -1.0                -1.0  \n",
       "130725            -1.0                -1.0  \n",
       "130726            -1.0                -1.0  \n",
       "130727            -1.0                -1.0  \n",
       "\n",
       "[130728 rows x 8 columns]"
      ]
     },
     "execution_count": 21,
     "metadata": {},
     "output_type": "execute_result"
    }
   ],
   "source": [
    "#train[['DEMANDA',  'MES', 'DIA', 'HORA', 'PC1_CLIMA', 'PC2_CLIMA','LUNES_FESTIVO','NAVIDAD_Y_NEW_YEAR' ]]\n",
    "train[['Energy_Demand', 'Day', 'Hour', 'Month', 'PC1_Weather', 'PC2_Weather' , 'Monday_Holiday', 'After_Christmas_NY' ]]"
   ]
  },
  {
   "cell_type": "markdown",
   "id": "880bd7e4",
   "metadata": {
    "heading_collapsed": true
   },
   "source": [
    "## 4. Setting the tensors for the encoder"
   ]
  },
  {
   "cell_type": "markdown",
   "id": "707a737d",
   "metadata": {
    "hidden": true
   },
   "source": [
    "<summary>\n",
    "    <font size=\"3\" color=\"palevioletred\"><b>Hyperparameters</b></font>\n",
    "</summary>"
   ]
  },
  {
   "cell_type": "markdown",
   "id": "8f81a90c",
   "metadata": {
    "hidden": true
   },
   "source": [
    "* **past** $= (24 \\times 7) + 12 = 180$:  Number of instances considered before the day to forecast \n",
    "\n",
    "* **skip** $= 12$: Number of instances to skip between the past and the future, this is because CENACE personnel require a 12-hour window to process the information and estimate the forecast\n",
    "\n",
    "* **future** $= 24$: Number of instances to forecast \n",
    "\n",
    "\n",
    "\n",
    "From hyperparameters we get:\n",
    "\n",
    "* $m$ = Number of pieces of instances of size $past+skip+future$ that fit on the training, validation and test set, respectively.\n"
   ]
  },
  {
   "cell_type": "markdown",
   "id": "f2a216df",
   "metadata": {
    "hidden": true
   },
   "source": [
    "<summary>\n",
    "    <font size=\"3\" color=\"palevioletred\"><b>Tensors dimension</b></font>\n",
    "</summary>"
   ]
  },
  {
   "cell_type": "markdown",
   "id": "0e023544",
   "metadata": {
    "hidden": true
   },
   "source": [
    "Past tensors:\n",
    "\n",
    "$$X_{past,n,m}$$\n",
    "\n",
    "\n",
    "* $n = 18$: number of features\n",
    "\n",
    "Future tensors:\n",
    "\n",
    "$$Y_{future,1,m}$$\n",
    "\n",
    "* $1$ means that we only consider the load energy demand in the corresponding instance\n",
    "\n",
    "<img src=\"img/tensors.png\" alt=\"drawing\" width=\"400\"/>\n"
   ]
  },
  {
   "cell_type": "markdown",
   "id": "041f9556",
   "metadata": {
    "hidden": true
   },
   "source": [
    "<summary>\n",
    "    <font size=\"3\" color=\"palevioletred\"><b>Past tensors features</b></font>\n",
    "</summary>"
   ]
  },
  {
   "cell_type": "markdown",
   "id": "d1fb45d0",
   "metadata": {
    "hidden": true
   },
   "source": [
    "<summary>\n",
    "    <font size=\"4\" color=\"teal\"><b>4.1 Setting  $X,Y$ tensors for training, validation and test sets</b></font>\n",
    "</summary>"
   ]
  },
  {
   "cell_type": "code",
   "execution_count": 22,
   "id": "6d6ce983",
   "metadata": {
    "hidden": true,
    "tags": []
   },
   "outputs": [],
   "source": [
    "# Setting hyperparameters #cambiar parametros, n_futuro 36, n_salto 0\n",
    "n_pasado = (24 * 7) + 12\n",
    "n_futuro = 36 #Adjusting to 36 prev 24\n",
    "n_salto = 0 #adjusting to 0 inst 12"
   ]
  },
  {
   "cell_type": "code",
   "execution_count": 23,
   "id": "d6a1cd79",
   "metadata": {
    "hidden": true
   },
   "outputs": [],
   "source": [
    "def divide_series(series, indicadores, n_pasado, n_futuro, n_salto, es_train=True):\n",
    "    \"\"\"\n",
    "    n_pasado: number of past observations for the encoder\n",
    "    n_futuro: number of future observations\n",
    "    n_salto: from where future observations start to count\n",
    "    \"\"\"\n",
    "    X, y = list(), list() # Vamos a crear listas y al final hacemos ndarrays\n",
    "    generador = range(len(series)) if es_train else range(0, len(series), n_futuro)\n",
    "\n",
    "    for ini in generador:\n",
    "        fin_anterior = ini + n_pasado\n",
    "        fin_actual = fin_anterior + n_salto + n_futuro\n",
    "        if fin_actual > len(series):\n",
    "            break\n",
    "        pasado = series[ini: fin_anterior, :]\n",
    "        if len(indicadores) > 0: # replace next day value in \"Holidays\" features\n",
    "            for i in range(indicadores.shape[1]):\n",
    "                pasado = np.c_[pasado, indicadores[fin_anterior + n_salto + 1, i] * np.ones((n_pasado, 1))]\n",
    "        futuro = series[fin_anterior + n_salto: fin_actual,[0]]\n",
    "        X.append(pasado)\n",
    "        y.append(futuro)\n",
    "            \n",
    "    return np.array(X), np.array(y)"
   ]
  },
  {
   "cell_type": "code",
   "execution_count": 24,
   "id": "4b6272e3",
   "metadata": {
    "hidden": true
   },
   "outputs": [],
   "source": [
    "\n",
    "features = ['Energy_Demand', 'Day', 'Hour', 'Month', 'PC1_Weather', 'PC2_Weather']\n",
    "                    \n",
    "nominal_features =  ['Monday_Holiday', 'Tuesday_Aft_Hol', 'Easter_week',\n",
    "       'May_1s', 'May_10t', 'Sept_16', 'Nov_2nd', 'Before_Christmas_NY',\n",
    "       'Christmas_NY', 'After_Christmas_NY']\n"
   ]
  },
  {
   "cell_type": "code",
   "execution_count": 25,
   "id": "d200f3b3",
   "metadata": {
    "hidden": true
   },
   "outputs": [],
   "source": [
    "#Aqui se dividiria\n",
    "n_attr = len(features) + len(nominal_features)\n",
    "# Setting the tensors\n",
    "X_train, y_train = divide_series(train[features].values,train[nominal_features].values, n_pasado, n_futuro, n_salto)\n",
    "X_val, y_val = divide_series(val[features].values, val[nominal_features].values, n_pasado, n_futuro, n_salto)\n",
    "X_test, y_test = divide_series(test[features].values, test[nominal_features].values, n_pasado, n_futuro, n_salto, es_train=False)"
   ]
  },
  {
   "cell_type": "code",
   "execution_count": 26,
   "id": "da37bba7",
   "metadata": {},
   "outputs": [
    {
     "name": "stdout",
     "output_type": "stream",
     "text": [
      "[[[-0.30990991 -0.66666667 -1.         ... -1.         -1.\n",
      "   -1.        ]\n",
      "  [-0.3536036  -0.66666667 -0.91304348 ... -1.         -1.\n",
      "   -1.        ]\n",
      "  [-0.39009009 -0.66666667 -0.82608696 ... -1.         -1.\n",
      "   -1.        ]\n",
      "  ...\n",
      "  [-0.37457658 -0.66666667 -0.2173913  ... -1.         -1.\n",
      "   -1.        ]\n",
      "  [-0.35614865 -0.66666667 -0.13043478 ... -1.         -1.\n",
      "   -1.        ]\n",
      "  [-0.34248198 -0.66666667 -0.04347826 ... -1.         -1.\n",
      "   -1.        ]]\n",
      "\n",
      " [[-0.25720721 -0.33333333  0.04347826 ... -1.         -1.\n",
      "   -1.        ]\n",
      "  [-0.23693694 -0.33333333  0.13043478 ... -1.         -1.\n",
      "   -1.        ]\n",
      "  [-0.20945946 -0.33333333  0.2173913  ... -1.         -1.\n",
      "   -1.        ]\n",
      "  ...\n",
      "  [-0.29743694 -0.33333333  0.82608696 ... -1.         -1.\n",
      "   -1.        ]\n",
      "  [-0.3246036  -0.33333333  0.91304348 ... -1.         -1.\n",
      "   -1.        ]\n",
      "  [-0.35847748 -0.33333333  1.         ... -1.         -1.\n",
      "   -1.        ]]\n",
      "\n",
      " [[-0.30598198  0.33333333 -1.         ... -1.         -1.\n",
      "   -1.        ]\n",
      "  [-0.34595946  0.33333333 -0.91304348 ... -1.         -1.\n",
      "   -1.        ]\n",
      "  [-0.38872523  0.33333333 -0.82608696 ... -1.         -1.\n",
      "   -1.        ]\n",
      "  ...\n",
      "  [-0.40540541  0.33333333 -0.2173913  ... -1.         -1.\n",
      "   -1.        ]\n",
      "  [-0.36396396  0.33333333 -0.13043478 ... -1.         -1.\n",
      "   -1.        ]\n",
      "  [-0.35315315  0.33333333 -0.04347826 ... -1.         -1.\n",
      "   -1.        ]]\n",
      "\n",
      " ...\n",
      "\n",
      " [[-0.33750901  0.          0.04347826 ... -1.         -1.\n",
      "   -1.        ]\n",
      "  [-0.3280045   0.          0.13043478 ... -1.         -1.\n",
      "   -1.        ]\n",
      "  [-0.30351351  0.          0.2173913  ... -1.         -1.\n",
      "   -1.        ]\n",
      "  ...\n",
      "  [-0.32677928  0.          0.82608696 ... -1.         -1.\n",
      "   -1.        ]\n",
      "  [-0.35703153  0.          0.91304348 ... -1.         -1.\n",
      "   -1.        ]\n",
      "  [-0.39886937  0.          1.         ... -1.         -1.\n",
      "   -1.        ]]\n",
      "\n",
      " [[-0.42524324  0.66666667 -1.         ... -1.         -1.\n",
      "   -1.        ]\n",
      "  [-0.46510811  0.66666667 -0.91304348 ... -1.         -1.\n",
      "   -1.        ]\n",
      "  [-0.48972973  0.66666667 -0.82608696 ... -1.         -1.\n",
      "   -1.        ]\n",
      "  ...\n",
      "  [-0.46153604  0.66666667 -0.2173913  ... -1.         -1.\n",
      "   -1.        ]\n",
      "  [-0.43913514  0.66666667 -0.13043478 ... -1.         -1.\n",
      "   -1.        ]\n",
      "  [-0.42185586  0.66666667 -0.04347826 ... -1.         -1.\n",
      "   -1.        ]]\n",
      "\n",
      " [[-0.49756306  1.          0.04347826 ... -1.         -1.\n",
      "   -1.        ]\n",
      "  [-0.49178378  1.          0.13043478 ... -1.         -1.\n",
      "   -1.        ]\n",
      "  [-0.48183784  1.          0.2173913  ... -1.         -1.\n",
      "   -1.        ]\n",
      "  ...\n",
      "  [-0.40521622  1.          0.82608696 ... -1.         -1.\n",
      "   -1.        ]\n",
      "  [-0.42503153  1.          0.91304348 ... -1.         -1.\n",
      "   -1.        ]\n",
      "  [-0.48655856  1.          1.         ... -1.         -1.\n",
      "   -1.        ]]]\n"
     ]
    }
   ],
   "source": [
    "print(X_test)"
   ]
  },
  {
   "cell_type": "code",
   "execution_count": 27,
   "id": "51d94e14",
   "metadata": {
    "hidden": true
   },
   "outputs": [
    {
     "data": {
      "text/plain": [
       "(130513, 180, 16)"
      ]
     },
     "execution_count": 27,
     "metadata": {},
     "output_type": "execute_result"
    }
   ],
   "source": [
    "X_train.shape"
   ]
  },
  {
   "cell_type": "code",
   "execution_count": 28,
   "id": "89a6de66",
   "metadata": {},
   "outputs": [
    {
     "data": {
      "text/plain": [
       "(2665, 180, 16)"
      ]
     },
     "execution_count": 28,
     "metadata": {},
     "output_type": "execute_result"
    }
   ],
   "source": [
    "X_val.shape"
   ]
  },
  {
   "cell_type": "code",
   "execution_count": 29,
   "id": "037f8472",
   "metadata": {},
   "outputs": [
    {
     "data": {
      "text/plain": [
       "(238, 180, 16)"
      ]
     },
     "execution_count": 29,
     "metadata": {},
     "output_type": "execute_result"
    }
   ],
   "source": [
    "X_test.shape"
   ]
  },
  {
   "cell_type": "markdown",
   "id": "2d1b6f17",
   "metadata": {
    "hidden": true
   },
   "source": [
    "<summary>\n",
    "    <font size=\"4\" color=\"teal\"><b>4.2  Exporting tensors</b></font>\n",
    "</summary>"
   ]
  },
  {
   "cell_type": "code",
   "execution_count": 30,
   "id": "68ed2268",
   "metadata": {
    "hidden": true
   },
   "outputs": [],
   "source": [
    "np.save('./outputs/split/X_train.npy', X_train)\n",
    "np.save('./outputs/split/X_val.npy', X_val)\n",
    "np.save('./outputs/split/X_test.npy', X_test)\n",
    "np.save('./outputs/split/y_train.npy', y_train)\n",
    "np.save('./outputs/split/y_val.npy', y_val)\n",
    "np.save('./outputs/split/y_test.npy', y_test)"
   ]
  },
  {
   "cell_type": "code",
   "execution_count": 31,
   "id": "bc367407",
   "metadata": {
    "hidden": true
   },
   "outputs": [
    {
     "ename": "URLError",
     "evalue": "<urlopen error [Errno 110] Connection timed out>",
     "output_type": "error",
     "traceback": [
      "\u001b[0;31m---------------------------------------------------------------------------\u001b[0m",
      "\u001b[0;31mTimeoutError\u001b[0m                              Traceback (most recent call last)",
      "File \u001b[0;32m~/.conda/envs/energia/lib/python3.10/urllib/request.py:1348\u001b[0m, in \u001b[0;36mAbstractHTTPHandler.do_open\u001b[0;34m(self, http_class, req, **http_conn_args)\u001b[0m\n\u001b[1;32m   1347\u001b[0m \u001b[38;5;28;01mtry\u001b[39;00m:\n\u001b[0;32m-> 1348\u001b[0m     \u001b[43mh\u001b[49m\u001b[38;5;241;43m.\u001b[39;49m\u001b[43mrequest\u001b[49m\u001b[43m(\u001b[49m\u001b[43mreq\u001b[49m\u001b[38;5;241;43m.\u001b[39;49m\u001b[43mget_method\u001b[49m\u001b[43m(\u001b[49m\u001b[43m)\u001b[49m\u001b[43m,\u001b[49m\u001b[43m \u001b[49m\u001b[43mreq\u001b[49m\u001b[38;5;241;43m.\u001b[39;49m\u001b[43mselector\u001b[49m\u001b[43m,\u001b[49m\u001b[43m \u001b[49m\u001b[43mreq\u001b[49m\u001b[38;5;241;43m.\u001b[39;49m\u001b[43mdata\u001b[49m\u001b[43m,\u001b[49m\u001b[43m \u001b[49m\u001b[43mheaders\u001b[49m\u001b[43m,\u001b[49m\n\u001b[1;32m   1349\u001b[0m \u001b[43m              \u001b[49m\u001b[43mencode_chunked\u001b[49m\u001b[38;5;241;43m=\u001b[39;49m\u001b[43mreq\u001b[49m\u001b[38;5;241;43m.\u001b[39;49m\u001b[43mhas_header\u001b[49m\u001b[43m(\u001b[49m\u001b[38;5;124;43m'\u001b[39;49m\u001b[38;5;124;43mTransfer-encoding\u001b[39;49m\u001b[38;5;124;43m'\u001b[39;49m\u001b[43m)\u001b[49m\u001b[43m)\u001b[49m\n\u001b[1;32m   1350\u001b[0m \u001b[38;5;28;01mexcept\u001b[39;00m \u001b[38;5;167;01mOSError\u001b[39;00m \u001b[38;5;28;01mas\u001b[39;00m err: \u001b[38;5;66;03m# timeout error\u001b[39;00m\n",
      "File \u001b[0;32m~/.conda/envs/energia/lib/python3.10/http/client.py:1282\u001b[0m, in \u001b[0;36mHTTPConnection.request\u001b[0;34m(self, method, url, body, headers, encode_chunked)\u001b[0m\n\u001b[1;32m   1281\u001b[0m \u001b[38;5;250m\u001b[39m\u001b[38;5;124;03m\"\"\"Send a complete request to the server.\"\"\"\u001b[39;00m\n\u001b[0;32m-> 1282\u001b[0m \u001b[38;5;28;43mself\u001b[39;49m\u001b[38;5;241;43m.\u001b[39;49m\u001b[43m_send_request\u001b[49m\u001b[43m(\u001b[49m\u001b[43mmethod\u001b[49m\u001b[43m,\u001b[49m\u001b[43m \u001b[49m\u001b[43murl\u001b[49m\u001b[43m,\u001b[49m\u001b[43m \u001b[49m\u001b[43mbody\u001b[49m\u001b[43m,\u001b[49m\u001b[43m \u001b[49m\u001b[43mheaders\u001b[49m\u001b[43m,\u001b[49m\u001b[43m \u001b[49m\u001b[43mencode_chunked\u001b[49m\u001b[43m)\u001b[49m\n",
      "File \u001b[0;32m~/.conda/envs/energia/lib/python3.10/http/client.py:1328\u001b[0m, in \u001b[0;36mHTTPConnection._send_request\u001b[0;34m(self, method, url, body, headers, encode_chunked)\u001b[0m\n\u001b[1;32m   1327\u001b[0m     body \u001b[38;5;241m=\u001b[39m _encode(body, \u001b[38;5;124m'\u001b[39m\u001b[38;5;124mbody\u001b[39m\u001b[38;5;124m'\u001b[39m)\n\u001b[0;32m-> 1328\u001b[0m \u001b[38;5;28;43mself\u001b[39;49m\u001b[38;5;241;43m.\u001b[39;49m\u001b[43mendheaders\u001b[49m\u001b[43m(\u001b[49m\u001b[43mbody\u001b[49m\u001b[43m,\u001b[49m\u001b[43m \u001b[49m\u001b[43mencode_chunked\u001b[49m\u001b[38;5;241;43m=\u001b[39;49m\u001b[43mencode_chunked\u001b[49m\u001b[43m)\u001b[49m\n",
      "File \u001b[0;32m~/.conda/envs/energia/lib/python3.10/http/client.py:1277\u001b[0m, in \u001b[0;36mHTTPConnection.endheaders\u001b[0;34m(self, message_body, encode_chunked)\u001b[0m\n\u001b[1;32m   1276\u001b[0m     \u001b[38;5;28;01mraise\u001b[39;00m CannotSendHeader()\n\u001b[0;32m-> 1277\u001b[0m \u001b[38;5;28;43mself\u001b[39;49m\u001b[38;5;241;43m.\u001b[39;49m\u001b[43m_send_output\u001b[49m\u001b[43m(\u001b[49m\u001b[43mmessage_body\u001b[49m\u001b[43m,\u001b[49m\u001b[43m \u001b[49m\u001b[43mencode_chunked\u001b[49m\u001b[38;5;241;43m=\u001b[39;49m\u001b[43mencode_chunked\u001b[49m\u001b[43m)\u001b[49m\n",
      "File \u001b[0;32m~/.conda/envs/energia/lib/python3.10/http/client.py:1037\u001b[0m, in \u001b[0;36mHTTPConnection._send_output\u001b[0;34m(self, message_body, encode_chunked)\u001b[0m\n\u001b[1;32m   1036\u001b[0m \u001b[38;5;28;01mdel\u001b[39;00m \u001b[38;5;28mself\u001b[39m\u001b[38;5;241m.\u001b[39m_buffer[:]\n\u001b[0;32m-> 1037\u001b[0m \u001b[38;5;28;43mself\u001b[39;49m\u001b[38;5;241;43m.\u001b[39;49m\u001b[43msend\u001b[49m\u001b[43m(\u001b[49m\u001b[43mmsg\u001b[49m\u001b[43m)\u001b[49m\n\u001b[1;32m   1039\u001b[0m \u001b[38;5;28;01mif\u001b[39;00m message_body \u001b[38;5;129;01mis\u001b[39;00m \u001b[38;5;129;01mnot\u001b[39;00m \u001b[38;5;28;01mNone\u001b[39;00m:\n\u001b[1;32m   1040\u001b[0m \n\u001b[1;32m   1041\u001b[0m     \u001b[38;5;66;03m# create a consistent interface to message_body\u001b[39;00m\n",
      "File \u001b[0;32m~/.conda/envs/energia/lib/python3.10/http/client.py:975\u001b[0m, in \u001b[0;36mHTTPConnection.send\u001b[0;34m(self, data)\u001b[0m\n\u001b[1;32m    974\u001b[0m \u001b[38;5;28;01mif\u001b[39;00m \u001b[38;5;28mself\u001b[39m\u001b[38;5;241m.\u001b[39mauto_open:\n\u001b[0;32m--> 975\u001b[0m     \u001b[38;5;28;43mself\u001b[39;49m\u001b[38;5;241;43m.\u001b[39;49m\u001b[43mconnect\u001b[49m\u001b[43m(\u001b[49m\u001b[43m)\u001b[49m\n\u001b[1;32m    976\u001b[0m \u001b[38;5;28;01melse\u001b[39;00m:\n",
      "File \u001b[0;32m~/.conda/envs/energia/lib/python3.10/http/client.py:1447\u001b[0m, in \u001b[0;36mHTTPSConnection.connect\u001b[0;34m(self)\u001b[0m\n\u001b[1;32m   1445\u001b[0m \u001b[38;5;124m\"\u001b[39m\u001b[38;5;124mConnect to a host on a given (SSL) port.\u001b[39m\u001b[38;5;124m\"\u001b[39m\n\u001b[0;32m-> 1447\u001b[0m \u001b[38;5;28;43msuper\u001b[39;49m\u001b[43m(\u001b[49m\u001b[43m)\u001b[49m\u001b[38;5;241;43m.\u001b[39;49m\u001b[43mconnect\u001b[49m\u001b[43m(\u001b[49m\u001b[43m)\u001b[49m\n\u001b[1;32m   1449\u001b[0m \u001b[38;5;28;01mif\u001b[39;00m \u001b[38;5;28mself\u001b[39m\u001b[38;5;241m.\u001b[39m_tunnel_host:\n",
      "File \u001b[0;32m~/.conda/envs/energia/lib/python3.10/http/client.py:941\u001b[0m, in \u001b[0;36mHTTPConnection.connect\u001b[0;34m(self)\u001b[0m\n\u001b[1;32m    940\u001b[0m sys\u001b[38;5;241m.\u001b[39maudit(\u001b[38;5;124m\"\u001b[39m\u001b[38;5;124mhttp.client.connect\u001b[39m\u001b[38;5;124m\"\u001b[39m, \u001b[38;5;28mself\u001b[39m, \u001b[38;5;28mself\u001b[39m\u001b[38;5;241m.\u001b[39mhost, \u001b[38;5;28mself\u001b[39m\u001b[38;5;241m.\u001b[39mport)\n\u001b[0;32m--> 941\u001b[0m \u001b[38;5;28mself\u001b[39m\u001b[38;5;241m.\u001b[39msock \u001b[38;5;241m=\u001b[39m \u001b[38;5;28;43mself\u001b[39;49m\u001b[38;5;241;43m.\u001b[39;49m\u001b[43m_create_connection\u001b[49m\u001b[43m(\u001b[49m\n\u001b[1;32m    942\u001b[0m \u001b[43m    \u001b[49m\u001b[43m(\u001b[49m\u001b[38;5;28;43mself\u001b[39;49m\u001b[38;5;241;43m.\u001b[39;49m\u001b[43mhost\u001b[49m\u001b[43m,\u001b[49m\u001b[38;5;28;43mself\u001b[39;49m\u001b[38;5;241;43m.\u001b[39;49m\u001b[43mport\u001b[49m\u001b[43m)\u001b[49m\u001b[43m,\u001b[49m\u001b[43m \u001b[49m\u001b[38;5;28;43mself\u001b[39;49m\u001b[38;5;241;43m.\u001b[39;49m\u001b[43mtimeout\u001b[49m\u001b[43m,\u001b[49m\u001b[43m \u001b[49m\u001b[38;5;28;43mself\u001b[39;49m\u001b[38;5;241;43m.\u001b[39;49m\u001b[43msource_address\u001b[49m\u001b[43m)\u001b[49m\n\u001b[1;32m    943\u001b[0m \u001b[38;5;66;03m# Might fail in OSs that don't implement TCP_NODELAY\u001b[39;00m\n",
      "File \u001b[0;32m~/.conda/envs/energia/lib/python3.10/socket.py:845\u001b[0m, in \u001b[0;36mcreate_connection\u001b[0;34m(address, timeout, source_address)\u001b[0m\n\u001b[1;32m    844\u001b[0m \u001b[38;5;28;01mtry\u001b[39;00m:\n\u001b[0;32m--> 845\u001b[0m     \u001b[38;5;28;01mraise\u001b[39;00m err\n\u001b[1;32m    846\u001b[0m \u001b[38;5;28;01mfinally\u001b[39;00m:\n\u001b[1;32m    847\u001b[0m     \u001b[38;5;66;03m# Break explicitly a reference cycle\u001b[39;00m\n",
      "File \u001b[0;32m~/.conda/envs/energia/lib/python3.10/socket.py:833\u001b[0m, in \u001b[0;36mcreate_connection\u001b[0;34m(address, timeout, source_address)\u001b[0m\n\u001b[1;32m    832\u001b[0m     sock\u001b[38;5;241m.\u001b[39mbind(source_address)\n\u001b[0;32m--> 833\u001b[0m \u001b[43msock\u001b[49m\u001b[38;5;241;43m.\u001b[39;49m\u001b[43mconnect\u001b[49m\u001b[43m(\u001b[49m\u001b[43msa\u001b[49m\u001b[43m)\u001b[49m\n\u001b[1;32m    834\u001b[0m \u001b[38;5;66;03m# Break explicitly a reference cycle\u001b[39;00m\n",
      "\u001b[0;31mTimeoutError\u001b[0m: [Errno 110] Connection timed out",
      "\nDuring handling of the above exception, another exception occurred:\n",
      "\u001b[0;31mURLError\u001b[0m                                  Traceback (most recent call last)",
      "Cell \u001b[0;32mIn[31], line 2\u001b[0m\n\u001b[1;32m      1\u001b[0m \u001b[38;5;28;01mfrom\u001b[39;00m \u001b[38;5;21;01mIPython\u001b[39;00m \u001b[38;5;28;01mimport\u001b[39;00m display\n\u001b[0;32m----> 2\u001b[0m \u001b[43mdisplay\u001b[49m\u001b[38;5;241;43m.\u001b[39;49m\u001b[43mImage\u001b[49m\u001b[43m(\u001b[49m\u001b[38;5;124;43m\"\u001b[39;49m\u001b[38;5;124;43mhttps://mcd.unison.mx/wp-content/themes/awaken/img/logo_mcd.png\u001b[39;49m\u001b[38;5;124;43m\"\u001b[39;49m\u001b[43m,\u001b[49m\u001b[43m \u001b[49m\u001b[43membed\u001b[49m\u001b[43m \u001b[49m\u001b[38;5;241;43m=\u001b[39;49m\u001b[43m \u001b[49m\u001b[38;5;28;43;01mTrue\u001b[39;49;00m\u001b[43m)\u001b[49m\n",
      "File \u001b[0;32m~/.conda/envs/energia/lib/python3.10/site-packages/IPython/core/display.py:970\u001b[0m, in \u001b[0;36mImage.__init__\u001b[0;34m(self, data, url, filename, format, embed, width, height, retina, unconfined, metadata, alt)\u001b[0m\n\u001b[1;32m    968\u001b[0m \u001b[38;5;28mself\u001b[39m\u001b[38;5;241m.\u001b[39munconfined \u001b[38;5;241m=\u001b[39m unconfined\n\u001b[1;32m    969\u001b[0m \u001b[38;5;28mself\u001b[39m\u001b[38;5;241m.\u001b[39malt \u001b[38;5;241m=\u001b[39m alt\n\u001b[0;32m--> 970\u001b[0m \u001b[38;5;28;43msuper\u001b[39;49m\u001b[43m(\u001b[49m\u001b[43mImage\u001b[49m\u001b[43m,\u001b[49m\u001b[43m \u001b[49m\u001b[38;5;28;43mself\u001b[39;49m\u001b[43m)\u001b[49m\u001b[38;5;241;43m.\u001b[39;49m\u001b[38;5;21;43m__init__\u001b[39;49m\u001b[43m(\u001b[49m\u001b[43mdata\u001b[49m\u001b[38;5;241;43m=\u001b[39;49m\u001b[43mdata\u001b[49m\u001b[43m,\u001b[49m\u001b[43m \u001b[49m\u001b[43murl\u001b[49m\u001b[38;5;241;43m=\u001b[39;49m\u001b[43murl\u001b[49m\u001b[43m,\u001b[49m\u001b[43m \u001b[49m\u001b[43mfilename\u001b[49m\u001b[38;5;241;43m=\u001b[39;49m\u001b[43mfilename\u001b[49m\u001b[43m,\u001b[49m\n\u001b[1;32m    971\u001b[0m \u001b[43m        \u001b[49m\u001b[43mmetadata\u001b[49m\u001b[38;5;241;43m=\u001b[39;49m\u001b[43mmetadata\u001b[49m\u001b[43m)\u001b[49m\n\u001b[1;32m    973\u001b[0m \u001b[38;5;28;01mif\u001b[39;00m \u001b[38;5;28mself\u001b[39m\u001b[38;5;241m.\u001b[39mwidth \u001b[38;5;129;01mis\u001b[39;00m \u001b[38;5;28;01mNone\u001b[39;00m \u001b[38;5;129;01mand\u001b[39;00m \u001b[38;5;28mself\u001b[39m\u001b[38;5;241m.\u001b[39mmetadata\u001b[38;5;241m.\u001b[39mget(\u001b[38;5;124m'\u001b[39m\u001b[38;5;124mwidth\u001b[39m\u001b[38;5;124m'\u001b[39m, {}):\n\u001b[1;32m    974\u001b[0m     \u001b[38;5;28mself\u001b[39m\u001b[38;5;241m.\u001b[39mwidth \u001b[38;5;241m=\u001b[39m metadata[\u001b[38;5;124m'\u001b[39m\u001b[38;5;124mwidth\u001b[39m\u001b[38;5;124m'\u001b[39m]\n",
      "File \u001b[0;32m~/.conda/envs/energia/lib/python3.10/site-packages/IPython/core/display.py:327\u001b[0m, in \u001b[0;36mDisplayObject.__init__\u001b[0;34m(self, data, url, filename, metadata)\u001b[0m\n\u001b[1;32m    324\u001b[0m \u001b[38;5;28;01melif\u001b[39;00m \u001b[38;5;28mself\u001b[39m\u001b[38;5;241m.\u001b[39mmetadata \u001b[38;5;129;01mis\u001b[39;00m \u001b[38;5;28;01mNone\u001b[39;00m:\n\u001b[1;32m    325\u001b[0m     \u001b[38;5;28mself\u001b[39m\u001b[38;5;241m.\u001b[39mmetadata \u001b[38;5;241m=\u001b[39m {}\n\u001b[0;32m--> 327\u001b[0m \u001b[38;5;28;43mself\u001b[39;49m\u001b[38;5;241;43m.\u001b[39;49m\u001b[43mreload\u001b[49m\u001b[43m(\u001b[49m\u001b[43m)\u001b[49m\n\u001b[1;32m    328\u001b[0m \u001b[38;5;28mself\u001b[39m\u001b[38;5;241m.\u001b[39m_check_data()\n",
      "File \u001b[0;32m~/.conda/envs/energia/lib/python3.10/site-packages/IPython/core/display.py:1005\u001b[0m, in \u001b[0;36mImage.reload\u001b[0;34m(self)\u001b[0m\n\u001b[1;32m   1003\u001b[0m \u001b[38;5;250m\u001b[39m\u001b[38;5;124;03m\"\"\"Reload the raw data from file or URL.\"\"\"\u001b[39;00m\n\u001b[1;32m   1004\u001b[0m \u001b[38;5;28;01mif\u001b[39;00m \u001b[38;5;28mself\u001b[39m\u001b[38;5;241m.\u001b[39membed:\n\u001b[0;32m-> 1005\u001b[0m     \u001b[38;5;28;43msuper\u001b[39;49m\u001b[43m(\u001b[49m\u001b[43mImage\u001b[49m\u001b[43m,\u001b[49m\u001b[38;5;28;43mself\u001b[39;49m\u001b[43m)\u001b[49m\u001b[38;5;241;43m.\u001b[39;49m\u001b[43mreload\u001b[49m\u001b[43m(\u001b[49m\u001b[43m)\u001b[49m\n\u001b[1;32m   1006\u001b[0m     \u001b[38;5;28;01mif\u001b[39;00m \u001b[38;5;28mself\u001b[39m\u001b[38;5;241m.\u001b[39mretina:\n\u001b[1;32m   1007\u001b[0m         \u001b[38;5;28mself\u001b[39m\u001b[38;5;241m.\u001b[39m_retina_shape()\n",
      "File \u001b[0;32m~/.conda/envs/energia/lib/python3.10/site-packages/IPython/core/display.py:358\u001b[0m, in \u001b[0;36mDisplayObject.reload\u001b[0;34m(self)\u001b[0m\n\u001b[1;32m    355\u001b[0m \u001b[38;5;28;01melif\u001b[39;00m \u001b[38;5;28mself\u001b[39m\u001b[38;5;241m.\u001b[39murl \u001b[38;5;129;01mis\u001b[39;00m \u001b[38;5;129;01mnot\u001b[39;00m \u001b[38;5;28;01mNone\u001b[39;00m:\n\u001b[1;32m    356\u001b[0m     \u001b[38;5;66;03m# Deferred import\u001b[39;00m\n\u001b[1;32m    357\u001b[0m     \u001b[38;5;28;01mfrom\u001b[39;00m \u001b[38;5;21;01murllib\u001b[39;00m\u001b[38;5;21;01m.\u001b[39;00m\u001b[38;5;21;01mrequest\u001b[39;00m \u001b[38;5;28;01mimport\u001b[39;00m urlopen\n\u001b[0;32m--> 358\u001b[0m     response \u001b[38;5;241m=\u001b[39m \u001b[43murlopen\u001b[49m\u001b[43m(\u001b[49m\u001b[38;5;28;43mself\u001b[39;49m\u001b[38;5;241;43m.\u001b[39;49m\u001b[43murl\u001b[49m\u001b[43m)\u001b[49m\n\u001b[1;32m    359\u001b[0m     data \u001b[38;5;241m=\u001b[39m response\u001b[38;5;241m.\u001b[39mread()\n\u001b[1;32m    360\u001b[0m     \u001b[38;5;66;03m# extract encoding from header, if there is one:\u001b[39;00m\n",
      "File \u001b[0;32m~/.conda/envs/energia/lib/python3.10/urllib/request.py:216\u001b[0m, in \u001b[0;36murlopen\u001b[0;34m(url, data, timeout, cafile, capath, cadefault, context)\u001b[0m\n\u001b[1;32m    214\u001b[0m \u001b[38;5;28;01melse\u001b[39;00m:\n\u001b[1;32m    215\u001b[0m     opener \u001b[38;5;241m=\u001b[39m _opener\n\u001b[0;32m--> 216\u001b[0m \u001b[38;5;28;01mreturn\u001b[39;00m \u001b[43mopener\u001b[49m\u001b[38;5;241;43m.\u001b[39;49m\u001b[43mopen\u001b[49m\u001b[43m(\u001b[49m\u001b[43murl\u001b[49m\u001b[43m,\u001b[49m\u001b[43m \u001b[49m\u001b[43mdata\u001b[49m\u001b[43m,\u001b[49m\u001b[43m \u001b[49m\u001b[43mtimeout\u001b[49m\u001b[43m)\u001b[49m\n",
      "File \u001b[0;32m~/.conda/envs/energia/lib/python3.10/urllib/request.py:519\u001b[0m, in \u001b[0;36mOpenerDirector.open\u001b[0;34m(self, fullurl, data, timeout)\u001b[0m\n\u001b[1;32m    516\u001b[0m     req \u001b[38;5;241m=\u001b[39m meth(req)\n\u001b[1;32m    518\u001b[0m sys\u001b[38;5;241m.\u001b[39maudit(\u001b[38;5;124m'\u001b[39m\u001b[38;5;124murllib.Request\u001b[39m\u001b[38;5;124m'\u001b[39m, req\u001b[38;5;241m.\u001b[39mfull_url, req\u001b[38;5;241m.\u001b[39mdata, req\u001b[38;5;241m.\u001b[39mheaders, req\u001b[38;5;241m.\u001b[39mget_method())\n\u001b[0;32m--> 519\u001b[0m response \u001b[38;5;241m=\u001b[39m \u001b[38;5;28;43mself\u001b[39;49m\u001b[38;5;241;43m.\u001b[39;49m\u001b[43m_open\u001b[49m\u001b[43m(\u001b[49m\u001b[43mreq\u001b[49m\u001b[43m,\u001b[49m\u001b[43m \u001b[49m\u001b[43mdata\u001b[49m\u001b[43m)\u001b[49m\n\u001b[1;32m    521\u001b[0m \u001b[38;5;66;03m# post-process response\u001b[39;00m\n\u001b[1;32m    522\u001b[0m meth_name \u001b[38;5;241m=\u001b[39m protocol\u001b[38;5;241m+\u001b[39m\u001b[38;5;124m\"\u001b[39m\u001b[38;5;124m_response\u001b[39m\u001b[38;5;124m\"\u001b[39m\n",
      "File \u001b[0;32m~/.conda/envs/energia/lib/python3.10/urllib/request.py:536\u001b[0m, in \u001b[0;36mOpenerDirector._open\u001b[0;34m(self, req, data)\u001b[0m\n\u001b[1;32m    533\u001b[0m     \u001b[38;5;28;01mreturn\u001b[39;00m result\n\u001b[1;32m    535\u001b[0m protocol \u001b[38;5;241m=\u001b[39m req\u001b[38;5;241m.\u001b[39mtype\n\u001b[0;32m--> 536\u001b[0m result \u001b[38;5;241m=\u001b[39m \u001b[38;5;28;43mself\u001b[39;49m\u001b[38;5;241;43m.\u001b[39;49m\u001b[43m_call_chain\u001b[49m\u001b[43m(\u001b[49m\u001b[38;5;28;43mself\u001b[39;49m\u001b[38;5;241;43m.\u001b[39;49m\u001b[43mhandle_open\u001b[49m\u001b[43m,\u001b[49m\u001b[43m \u001b[49m\u001b[43mprotocol\u001b[49m\u001b[43m,\u001b[49m\u001b[43m \u001b[49m\u001b[43mprotocol\u001b[49m\u001b[43m \u001b[49m\u001b[38;5;241;43m+\u001b[39;49m\n\u001b[1;32m    537\u001b[0m \u001b[43m                          \u001b[49m\u001b[38;5;124;43m'\u001b[39;49m\u001b[38;5;124;43m_open\u001b[39;49m\u001b[38;5;124;43m'\u001b[39;49m\u001b[43m,\u001b[49m\u001b[43m \u001b[49m\u001b[43mreq\u001b[49m\u001b[43m)\u001b[49m\n\u001b[1;32m    538\u001b[0m \u001b[38;5;28;01mif\u001b[39;00m result:\n\u001b[1;32m    539\u001b[0m     \u001b[38;5;28;01mreturn\u001b[39;00m result\n",
      "File \u001b[0;32m~/.conda/envs/energia/lib/python3.10/urllib/request.py:496\u001b[0m, in \u001b[0;36mOpenerDirector._call_chain\u001b[0;34m(self, chain, kind, meth_name, *args)\u001b[0m\n\u001b[1;32m    494\u001b[0m \u001b[38;5;28;01mfor\u001b[39;00m handler \u001b[38;5;129;01min\u001b[39;00m handlers:\n\u001b[1;32m    495\u001b[0m     func \u001b[38;5;241m=\u001b[39m \u001b[38;5;28mgetattr\u001b[39m(handler, meth_name)\n\u001b[0;32m--> 496\u001b[0m     result \u001b[38;5;241m=\u001b[39m \u001b[43mfunc\u001b[49m\u001b[43m(\u001b[49m\u001b[38;5;241;43m*\u001b[39;49m\u001b[43margs\u001b[49m\u001b[43m)\u001b[49m\n\u001b[1;32m    497\u001b[0m     \u001b[38;5;28;01mif\u001b[39;00m result \u001b[38;5;129;01mis\u001b[39;00m \u001b[38;5;129;01mnot\u001b[39;00m \u001b[38;5;28;01mNone\u001b[39;00m:\n\u001b[1;32m    498\u001b[0m         \u001b[38;5;28;01mreturn\u001b[39;00m result\n",
      "File \u001b[0;32m~/.conda/envs/energia/lib/python3.10/urllib/request.py:1391\u001b[0m, in \u001b[0;36mHTTPSHandler.https_open\u001b[0;34m(self, req)\u001b[0m\n\u001b[1;32m   1390\u001b[0m \u001b[38;5;28;01mdef\u001b[39;00m \u001b[38;5;21mhttps_open\u001b[39m(\u001b[38;5;28mself\u001b[39m, req):\n\u001b[0;32m-> 1391\u001b[0m     \u001b[38;5;28;01mreturn\u001b[39;00m \u001b[38;5;28;43mself\u001b[39;49m\u001b[38;5;241;43m.\u001b[39;49m\u001b[43mdo_open\u001b[49m\u001b[43m(\u001b[49m\u001b[43mhttp\u001b[49m\u001b[38;5;241;43m.\u001b[39;49m\u001b[43mclient\u001b[49m\u001b[38;5;241;43m.\u001b[39;49m\u001b[43mHTTPSConnection\u001b[49m\u001b[43m,\u001b[49m\u001b[43m \u001b[49m\u001b[43mreq\u001b[49m\u001b[43m,\u001b[49m\n\u001b[1;32m   1392\u001b[0m \u001b[43m        \u001b[49m\u001b[43mcontext\u001b[49m\u001b[38;5;241;43m=\u001b[39;49m\u001b[38;5;28;43mself\u001b[39;49m\u001b[38;5;241;43m.\u001b[39;49m\u001b[43m_context\u001b[49m\u001b[43m,\u001b[49m\u001b[43m \u001b[49m\u001b[43mcheck_hostname\u001b[49m\u001b[38;5;241;43m=\u001b[39;49m\u001b[38;5;28;43mself\u001b[39;49m\u001b[38;5;241;43m.\u001b[39;49m\u001b[43m_check_hostname\u001b[49m\u001b[43m)\u001b[49m\n",
      "File \u001b[0;32m~/.conda/envs/energia/lib/python3.10/urllib/request.py:1351\u001b[0m, in \u001b[0;36mAbstractHTTPHandler.do_open\u001b[0;34m(self, http_class, req, **http_conn_args)\u001b[0m\n\u001b[1;32m   1348\u001b[0m         h\u001b[38;5;241m.\u001b[39mrequest(req\u001b[38;5;241m.\u001b[39mget_method(), req\u001b[38;5;241m.\u001b[39mselector, req\u001b[38;5;241m.\u001b[39mdata, headers,\n\u001b[1;32m   1349\u001b[0m                   encode_chunked\u001b[38;5;241m=\u001b[39mreq\u001b[38;5;241m.\u001b[39mhas_header(\u001b[38;5;124m'\u001b[39m\u001b[38;5;124mTransfer-encoding\u001b[39m\u001b[38;5;124m'\u001b[39m))\n\u001b[1;32m   1350\u001b[0m     \u001b[38;5;28;01mexcept\u001b[39;00m \u001b[38;5;167;01mOSError\u001b[39;00m \u001b[38;5;28;01mas\u001b[39;00m err: \u001b[38;5;66;03m# timeout error\u001b[39;00m\n\u001b[0;32m-> 1351\u001b[0m         \u001b[38;5;28;01mraise\u001b[39;00m URLError(err)\n\u001b[1;32m   1352\u001b[0m     r \u001b[38;5;241m=\u001b[39m h\u001b[38;5;241m.\u001b[39mgetresponse()\n\u001b[1;32m   1353\u001b[0m \u001b[38;5;28;01mexcept\u001b[39;00m:\n",
      "\u001b[0;31mURLError\u001b[0m: <urlopen error [Errno 110] Connection timed out>"
     ]
    }
   ],
   "source": [
    "from IPython import display\n",
    "display.Image(\"https://mcd.unison.mx/wp-content/themes/awaken/img/logo_mcd.png\", embed = True)"
   ]
  },
  {
   "cell_type": "markdown",
   "id": "bec571e5",
   "metadata": {
    "hidden": true
   },
   "source": [
    "<summary>\n",
    "    <font size=\"4\" color=\"gray\"> Maestría en Ciencia de Datos | Universidad de Sonora </font>\n",
    "</summary>\n",
    "<font size=\"1\" color=\"gray\"> Blvd. Luis Encinas y Rosales s/n Col. Centro. Edificio 3K1 planta baja C.P. 83000, Hermosillo, Sonora, México </font>\n",
    "<font size=\"1\" color=\"gray\"> mcd@unison.mx </font>\n",
    "<font size=\"1\" color=\"gray\"> Tel: +52 (662) 259 2155  </font>"
   ]
  },
  {
   "cell_type": "markdown",
   "id": "485adc07",
   "metadata": {
    "hidden": true
   },
   "source": [
    "\n"
   ]
  },
  {
   "cell_type": "code",
   "execution_count": null,
   "id": "5ee928e4",
   "metadata": {
    "hidden": true
   },
   "outputs": [],
   "source": []
  }
 ],
 "metadata": {
  "kernelspec": {
   "display_name": "energia",
   "language": "python",
   "name": "energia"
  },
  "language_info": {
   "codemirror_mode": {
    "name": "ipython",
    "version": 3
   },
   "file_extension": ".py",
   "mimetype": "text/x-python",
   "name": "python",
   "nbconvert_exporter": "python",
   "pygments_lexer": "ipython3",
   "version": "3.10.9"
  },
  "vscode": {
   "interpreter": {
    "hash": "e46e305cb1b2e9023b322cb83f073976ae87c5c5e6ccde536e6571681080371c"
   }
  }
 },
 "nbformat": 4,
 "nbformat_minor": 5
}
